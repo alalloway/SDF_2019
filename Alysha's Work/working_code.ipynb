{
 "cells": [
  {
   "cell_type": "code",
   "execution_count": 1,
   "metadata": {},
   "outputs": [
    {
     "name": "stdout",
     "output_type": "stream",
     "text": [
      "imported\n"
     ]
    }
   ],
   "source": [
    "#IMPORT STATEMENTS\n",
    "\n",
    "import arcpy\n",
    "print('imported')\n"
   ]
  },
  {
   "cell_type": "code",
   "execution_count": 2,
   "metadata": {},
   "outputs": [],
   "source": [
    "#ENVIRONMENTS\n",
    "arcpy.env.workspace = \"C:/Users/allow001/work/\"\n",
    "\n"
   ]
  },
  {
   "cell_type": "code",
   "execution_count": 4,
   "metadata": {},
   "outputs": [
    {
     "name": "stdout",
     "output_type": "stream",
     "text": [
      "converted\n"
     ]
    }
   ],
   "source": [
    "### NOT NECESSARY FOR FEATURE TO LINE TOOL - START FROM SHP - DO NOT RUN\n",
    "\n",
    "#CONVERT SHAPEFILES TO FEATURE CLASSES TO USE ARCPY POLYGON TO LINE TOOL\n",
    "\n",
    "#arcpy.env.workspace = \"C:/Users/allow001/work/scratchdata/us_state_2000_shp\"\n",
    "#arcpy.FeatureClassToFeatureClass_conversion(\"US_state_2000.shp\", \n",
    "                                            \"C:/Users/allow001/work/Working.gdb\", \n",
    "                                            \"US_state_2000\")\n",
    "#print('converted')"
   ]
  },
  {
   "cell_type": "code",
   "execution_count": 10,
   "metadata": {},
   "outputs": [
    {
     "name": "stdout",
     "output_type": "stream",
     "text": [
      "lines!\n"
     ]
    }
   ],
   "source": [
    "#RUN ARCPY FEATURE TO LINE TOOL, OUTPUT LINES AS FEATURE CLASSES\n",
    "\n",
    "arcpy.FeatureToLine_management(\"Working.gdb/US_boundary\", \n",
    "                               \"Working.gdb/USboundary_line\",\n",
    "                               \"0.001 Meters\", \"ATTRIBUTES\")\n",
    "print('lines!')"
   ]
  },
  {
   "cell_type": "code",
   "execution_count": 18,
   "metadata": {},
   "outputs": [
    {
     "name": "stdout",
     "output_type": "stream",
     "text": [
      "dissolved!\n"
     ]
    }
   ],
   "source": [
    "#DISSOLVE LINES BASED ON FID_US_state_2000\n",
    "\n",
    "arcpy.Dissolve_management(\"Working.gdb/US_state_2000_lines\", \"Working.gdb/US_state_2000_lines_dissolved\", \"FID_US_state_2000\",\n",
    "                          \"FID_US_state_2000 FIRST;NHGISST FIRST;ICPSRST FIRST;STATENAM FIRST\",\"MULTI_PART\", \"DISSOLVE_LINES\")\n",
    "print('dissolved!')\n",
    "\n"
   ]
  },
  {
   "cell_type": "code",
   "execution_count": 21,
   "metadata": {
    "collapsed": true
   },
   "outputs": [
    {
     "ename": "ExecuteError",
     "evalue": "Failed to execute. Parameters are not valid.\nERROR 000725: Output Feature Class: Dataset Working.gdb\\ak_water_lines already exists.\nFailed to execute (FeatureToLine).\n",
     "output_type": "error",
     "traceback": [
      "\u001b[1;31m---------------------------------------------------------------------------\u001b[0m",
      "\u001b[1;31mExecuteError\u001b[0m                              Traceback (most recent call last)",
      "\u001b[1;32m<ipython-input-21-568c4ea5a8fe>\u001b[0m in \u001b[0;36m<module>\u001b[1;34m()\u001b[0m\n\u001b[0;32m      1\u001b[0m arcpy.FeatureToLine_management(\"Working.gdb/ak_water_poly\", \n\u001b[0;32m      2\u001b[0m                                \u001b[1;34m\"Working.gdb/ak_water_lines\"\u001b[0m\u001b[1;33m,\u001b[0m\u001b[1;33m\u001b[0m\u001b[0m\n\u001b[1;32m----> 3\u001b[1;33m                                \"0.001 Meters\", \"ATTRIBUTES\")\n\u001b[0m\u001b[0;32m      4\u001b[0m \u001b[0mprint\u001b[0m\u001b[1;33m(\u001b[0m\u001b[1;34m'lines!'\u001b[0m\u001b[1;33m)\u001b[0m\u001b[1;33m\u001b[0m\u001b[0m\n",
      "\u001b[1;32mC:\\Program Files\\ArcGIS\\Pro\\Resources\\ArcPy\\arcpy\\management.py\u001b[0m in \u001b[0;36mFeatureToLine\u001b[1;34m(in_features, out_feature_class, cluster_tolerance, attributes)\u001b[0m\n\u001b[0;32m   2744\u001b[0m         \u001b[1;32mreturn\u001b[0m \u001b[0mretval\u001b[0m\u001b[1;33m\u001b[0m\u001b[0m\n\u001b[0;32m   2745\u001b[0m     \u001b[1;32mexcept\u001b[0m \u001b[0mException\u001b[0m \u001b[1;32mas\u001b[0m \u001b[0me\u001b[0m\u001b[1;33m:\u001b[0m\u001b[1;33m\u001b[0m\u001b[0m\n\u001b[1;32m-> 2746\u001b[1;33m         \u001b[1;32mraise\u001b[0m \u001b[0me\u001b[0m\u001b[1;33m\u001b[0m\u001b[0m\n\u001b[0m\u001b[0;32m   2747\u001b[0m \u001b[1;33m\u001b[0m\u001b[0m\n\u001b[0;32m   2748\u001b[0m \u001b[1;33m@\u001b[0m\u001b[0mgptooldoc\u001b[0m\u001b[1;33m(\u001b[0m\u001b[1;34m'FeatureToPoint_management'\u001b[0m\u001b[1;33m,\u001b[0m \u001b[1;32mNone\u001b[0m\u001b[1;33m)\u001b[0m\u001b[1;33m\u001b[0m\u001b[0m\n",
      "\u001b[1;32mC:\\Program Files\\ArcGIS\\Pro\\Resources\\ArcPy\\arcpy\\management.py\u001b[0m in \u001b[0;36mFeatureToLine\u001b[1;34m(in_features, out_feature_class, cluster_tolerance, attributes)\u001b[0m\n\u001b[0;32m   2741\u001b[0m     \u001b[1;32mfrom\u001b[0m \u001b[0marcpy\u001b[0m\u001b[1;33m.\u001b[0m\u001b[0marcobjects\u001b[0m\u001b[1;33m.\u001b[0m\u001b[0marcobjectconversion\u001b[0m \u001b[1;32mimport\u001b[0m \u001b[0mconvertArcObjectToPythonObject\u001b[0m\u001b[1;33m\u001b[0m\u001b[0m\n\u001b[0;32m   2742\u001b[0m     \u001b[1;32mtry\u001b[0m\u001b[1;33m:\u001b[0m\u001b[1;33m\u001b[0m\u001b[0m\n\u001b[1;32m-> 2743\u001b[1;33m         \u001b[0mretval\u001b[0m \u001b[1;33m=\u001b[0m \u001b[0mconvertArcObjectToPythonObject\u001b[0m\u001b[1;33m(\u001b[0m\u001b[0mgp\u001b[0m\u001b[1;33m.\u001b[0m\u001b[0mFeatureToLine_management\u001b[0m\u001b[1;33m(\u001b[0m\u001b[1;33m*\u001b[0m\u001b[0mgp_fixargs\u001b[0m\u001b[1;33m(\u001b[0m\u001b[1;33m(\u001b[0m\u001b[0min_features\u001b[0m\u001b[1;33m,\u001b[0m \u001b[0mout_feature_class\u001b[0m\u001b[1;33m,\u001b[0m \u001b[0mcluster_tolerance\u001b[0m\u001b[1;33m,\u001b[0m \u001b[0mattributes\u001b[0m\u001b[1;33m)\u001b[0m\u001b[1;33m,\u001b[0m \u001b[1;32mTrue\u001b[0m\u001b[1;33m)\u001b[0m\u001b[1;33m)\u001b[0m\u001b[1;33m)\u001b[0m\u001b[1;33m\u001b[0m\u001b[0m\n\u001b[0m\u001b[0;32m   2744\u001b[0m         \u001b[1;32mreturn\u001b[0m \u001b[0mretval\u001b[0m\u001b[1;33m\u001b[0m\u001b[0m\n\u001b[0;32m   2745\u001b[0m     \u001b[1;32mexcept\u001b[0m \u001b[0mException\u001b[0m \u001b[1;32mas\u001b[0m \u001b[0me\u001b[0m\u001b[1;33m:\u001b[0m\u001b[1;33m\u001b[0m\u001b[0m\n",
      "\u001b[1;32mC:\\Program Files\\ArcGIS\\Pro\\Resources\\ArcPy\\arcpy\\geoprocessing\\_base.py\u001b[0m in \u001b[0;36m<lambda>\u001b[1;34m(*args)\u001b[0m\n\u001b[0;32m    496\u001b[0m         \u001b[0mval\u001b[0m \u001b[1;33m=\u001b[0m \u001b[0mgetattr\u001b[0m\u001b[1;33m(\u001b[0m\u001b[0mself\u001b[0m\u001b[1;33m.\u001b[0m\u001b[0m_gp\u001b[0m\u001b[1;33m,\u001b[0m \u001b[0mattr\u001b[0m\u001b[1;33m)\u001b[0m\u001b[1;33m\u001b[0m\u001b[0m\n\u001b[0;32m    497\u001b[0m         \u001b[1;32mif\u001b[0m \u001b[0mcallable\u001b[0m\u001b[1;33m(\u001b[0m\u001b[0mval\u001b[0m\u001b[1;33m)\u001b[0m\u001b[1;33m:\u001b[0m\u001b[1;33m\u001b[0m\u001b[0m\n\u001b[1;32m--> 498\u001b[1;33m             \u001b[1;32mreturn\u001b[0m \u001b[1;32mlambda\u001b[0m \u001b[1;33m*\u001b[0m\u001b[0margs\u001b[0m\u001b[1;33m:\u001b[0m \u001b[0mval\u001b[0m\u001b[1;33m(\u001b[0m\u001b[1;33m*\u001b[0m\u001b[0mgp_fixargs\u001b[0m\u001b[1;33m(\u001b[0m\u001b[0margs\u001b[0m\u001b[1;33m,\u001b[0m \u001b[1;32mTrue\u001b[0m\u001b[1;33m)\u001b[0m\u001b[1;33m)\u001b[0m\u001b[1;33m\u001b[0m\u001b[0m\n\u001b[0m\u001b[0;32m    499\u001b[0m         \u001b[1;32melse\u001b[0m\u001b[1;33m:\u001b[0m\u001b[1;33m\u001b[0m\u001b[0m\n\u001b[0;32m    500\u001b[0m             \u001b[1;32mreturn\u001b[0m \u001b[0mconvertArcObjectToPythonObject\u001b[0m\u001b[1;33m(\u001b[0m\u001b[0mval\u001b[0m\u001b[1;33m)\u001b[0m\u001b[1;33m\u001b[0m\u001b[0m\n",
      "\u001b[1;31mExecuteError\u001b[0m: Failed to execute. Parameters are not valid.\nERROR 000725: Output Feature Class: Dataset Working.gdb\\ak_water_lines already exists.\nFailed to execute (FeatureToLine).\n"
     ]
    }
   ],
   "source": [
    "#WATER - WORKING -\n",
    "\n",
    "arcpy.FeatureToLine_management(\"Working.gdb/ak_water_poly\", \n",
    "                               \"Working.gdb/ak_water_lines\",\n",
    "                               \"0.001 Meters\", \"ATTRIBUTES\")\n",
    "print('lines!')\n"
   ]
  },
  {
   "cell_type": "markdown",
   "metadata": {},
   "source": [
    "## UNZIPPING FILES"
   ]
  },
  {
   "cell_type": "code",
   "execution_count": 2,
   "metadata": {
    "scrolled": true
   },
   "outputs": [
    {
     "name": "stdout",
     "output_type": "stream",
     "text": [
      "import successful\n",
      "C:\\Users\\allow001\\work\\primarydata\\us_county_2000.zip\n",
      "C:\\Users\\allow001\\work\\primarydata\n",
      "us_county_2000.zip\n",
      "C:\\Users\\allow001\\work\\primarydata\\state\\us_state_1790.zip\n",
      "C:\\Users\\allow001\\work\\primarydata\\state\n",
      "us_state_1790.zip\n",
      "C:\\Users\\allow001\\work\\primarydata\\state\\us_state_1800.zip\n",
      "C:\\Users\\allow001\\work\\primarydata\\state\n",
      "us_state_1800.zip\n",
      "C:\\Users\\allow001\\work\\primarydata\\state\\us_state_1810.zip\n",
      "C:\\Users\\allow001\\work\\primarydata\\state\n",
      "us_state_1810.zip\n",
      "C:\\Users\\allow001\\work\\primarydata\\state\\us_state_1820.zip\n",
      "C:\\Users\\allow001\\work\\primarydata\\state\n",
      "us_state_1820.zip\n",
      "C:\\Users\\allow001\\work\\primarydata\\state\\us_state_1830.zip\n",
      "C:\\Users\\allow001\\work\\primarydata\\state\n",
      "us_state_1830.zip\n",
      "C:\\Users\\allow001\\work\\primarydata\\state\\us_state_1840.zip\n",
      "C:\\Users\\allow001\\work\\primarydata\\state\n",
      "us_state_1840.zip\n",
      "C:\\Users\\allow001\\work\\primarydata\\state\\us_state_1850.zip\n",
      "C:\\Users\\allow001\\work\\primarydata\\state\n",
      "us_state_1850.zip\n",
      "C:\\Users\\allow001\\work\\primarydata\\state\\us_state_1860.zip\n",
      "C:\\Users\\allow001\\work\\primarydata\\state\n",
      "us_state_1860.zip\n",
      "C:\\Users\\allow001\\work\\primarydata\\state\\us_state_1870.zip\n",
      "C:\\Users\\allow001\\work\\primarydata\\state\n",
      "us_state_1870.zip\n",
      "C:\\Users\\allow001\\work\\primarydata\\state\\us_state_1880.zip\n",
      "C:\\Users\\allow001\\work\\primarydata\\state\n",
      "us_state_1880.zip\n",
      "C:\\Users\\allow001\\work\\primarydata\\state\\us_state_1890.zip\n",
      "C:\\Users\\allow001\\work\\primarydata\\state\n",
      "us_state_1890.zip\n",
      "C:\\Users\\allow001\\work\\primarydata\\state\\us_state_1900.zip\n",
      "C:\\Users\\allow001\\work\\primarydata\\state\n",
      "us_state_1900.zip\n",
      "C:\\Users\\allow001\\work\\primarydata\\state\\us_state_1910.zip\n",
      "C:\\Users\\allow001\\work\\primarydata\\state\n",
      "us_state_1910.zip\n",
      "C:\\Users\\allow001\\work\\primarydata\\state\\us_state_1920.zip\n",
      "C:\\Users\\allow001\\work\\primarydata\\state\n",
      "us_state_1920.zip\n",
      "C:\\Users\\allow001\\work\\primarydata\\state\\us_state_1930.zip\n",
      "C:\\Users\\allow001\\work\\primarydata\\state\n",
      "us_state_1930.zip\n",
      "C:\\Users\\allow001\\work\\primarydata\\state\\us_state_1940.zip\n",
      "C:\\Users\\allow001\\work\\primarydata\\state\n",
      "us_state_1940.zip\n",
      "C:\\Users\\allow001\\work\\primarydata\\state\\us_state_1950.zip\n",
      "C:\\Users\\allow001\\work\\primarydata\\state\n",
      "us_state_1950.zip\n",
      "C:\\Users\\allow001\\work\\primarydata\\state\\us_state_1960.zip\n",
      "C:\\Users\\allow001\\work\\primarydata\\state\n",
      "us_state_1960.zip\n",
      "C:\\Users\\allow001\\work\\primarydata\\state\\us_state_1970.zip\n",
      "C:\\Users\\allow001\\work\\primarydata\\state\n",
      "us_state_1970.zip\n",
      "C:\\Users\\allow001\\work\\primarydata\\state\\us_state_1980.zip\n",
      "C:\\Users\\allow001\\work\\primarydata\\state\n",
      "us_state_1980.zip\n",
      "C:\\Users\\allow001\\work\\primarydata\\state\\us_state_1990.zip\n",
      "C:\\Users\\allow001\\work\\primarydata\\state\n",
      "us_state_1990.zip\n",
      "C:\\Users\\allow001\\work\\primarydata\\state\\us_state_2000.zip\n",
      "C:\\Users\\allow001\\work\\primarydata\\state\n",
      "us_state_2000.zip\n",
      "C:\\Users\\allow001\\work\\primarydata\\state\\us_state_all.zip\n",
      "C:\\Users\\allow001\\work\\primarydata\\state\n",
      "us_state_all.zip\n"
     ]
    }
   ],
   "source": [
    "import zipfile,fnmatch,os  \n",
    "\n",
    "print('import successful')\n",
    "\n",
    "# EXTRACT ALL ZIP FILES IN DIRECTORY TREE TO ONE SPECIFIC FOLDER   \n",
    "\n",
    "rootPath = r\"C:\\Users\\allow001\\work\\primarydata\"  \n",
    "pattern = '*.zip'  \n",
    "for root, dirs, files in os.walk(rootPath):  \n",
    "    for filename in fnmatch.filter(files, pattern):  \n",
    "        print(os.path.join(root, filename))  \n",
    "        outpath = r\"C:\\Users\\allow001\\work\\scratchdata\"    \n",
    "        print (root)  \n",
    "        print (filename)  \n",
    "        zipfile.ZipFile(os.path.join(root, filename)).extractall(r\"C:\\Users\\allow001\\work\\scratchdata\")  "
   ]
  },
  {
   "cell_type": "markdown",
   "metadata": {},
   "source": [
    "## DISSOLVE ROUND 2: US STATES EDITION"
   ]
  },
  {
   "cell_type": "code",
   "execution_count": 8,
   "metadata": {},
   "outputs": [
    {
     "name": "stdout",
     "output_type": "stream",
     "text": [
      "dissolved! again!\n"
     ]
    }
   ],
   "source": [
    "#DISSOLVE LINES \n",
    "\n",
    "arcpy.Dissolve_management(\"Working.gdb/US_state_2000_lines\", \"Working.gdb/US_state_2000_lines_exterior\",\"US\",\n",
    "                          \"\",\"SINGLE_PART\", \"DISSOLVE_LINES\")\n",
    "print('dissolved! again!')\n"
   ]
  },
  {
   "cell_type": "markdown",
   "metadata": {},
   "source": [
    "## Coverage >>> SHP"
   ]
  },
  {
   "cell_type": "code",
   "execution_count": 23,
   "metadata": {},
   "outputs": [
    {
     "data": {
      "text/plain": [
       "<Result 'C:\\\\Users\\\\allow001\\\\work\\\\scratchdata\\\\ak'>"
      ]
     },
     "execution_count": 23,
     "metadata": {},
     "output_type": "execute_result"
    }
   ],
   "source": [
    "arcpy.FeatureClassToShapefile_conversion(Input_Features=\"G:/data_projects/sdf_2019/link_new/ak/state/akwater/region.water\", Output_Folder=\"C:/Users/allow001/work/scratchdata/ak\")"
   ]
  },
  {
   "cell_type": "code",
   "execution_count": 28,
   "metadata": {},
   "outputs": [
    {
     "data": {
      "text/plain": [
       "<Result 'C:\\\\Users\\\\allow001\\\\work\\\\scratchdata\\\\al'>"
      ]
     },
     "execution_count": 28,
     "metadata": {},
     "output_type": "execute_result"
    }
   ],
   "source": [
    "Input_Features = [\"G:/data_projects/sdf_2019/link_new/al/state/alwater/polygon\",\"G:/data_projects/sdf_2019/link_new/al/alh/arc\",\"G:/data_projects/sdf_2019/link_new/al/als/arc\"]\n",
    "\n",
    "Output_Folder = \"C:/Users/allow001/work/scratchdata/al\"\n",
    "\n",
    "arcpy.FeatureClassToShapefile_conversion(Input_Features, Output_Folder)"
   ]
  },
  {
   "cell_type": "code",
   "execution_count": null,
   "metadata": {},
   "outputs": [],
   "source": []
  },
  {
   "cell_type": "code",
   "execution_count": 36,
   "metadata": {
    "collapsed": true
   },
   "outputs": [
    {
     "name": "stdout",
     "output_type": "stream",
     "text": [
      "ak\n",
      "al\n",
      "ar\n",
      "as\n",
      "az\n",
      "ca\n",
      "co\n",
      "ct\n",
      "dc\n",
      "de\n",
      "fl\n",
      "ga\n",
      "gu\n",
      "hi\n",
      "ia\n",
      "id\n",
      "il\n",
      "in\n",
      "ks\n",
      "ky\n",
      "la\n",
      "ma\n",
      "md\n",
      "me\n",
      "mi\n",
      "mn\n",
      "mo\n",
      "mp\n",
      "ms\n",
      "mt\n",
      "nc\n",
      "nd\n",
      "ne\n",
      "nh\n",
      "nj\n",
      "nm\n",
      "nv\n",
      "ny\n",
      "oh\n",
      "ok\n",
      "or\n",
      "pa\n",
      "pr\n",
      "pw\n",
      "ri\n",
      "sc\n",
      "sd\n",
      "tn\n",
      "tx\n",
      "um\n",
      "ut\n",
      "va\n",
      "vi\n",
      "vt\n",
      "wa\n",
      "wi\n",
      "wv\n",
      "wy\n",
      "['ak', 'al', 'ar', 'as', 'az', 'ca', 'co', 'ct', 'dc', 'de', 'fl', 'ga', 'gu', 'hi', 'ia', 'id', 'il', 'in', 'ks', 'ky', 'la', 'ma', 'md', 'me', 'mi', 'mn', 'mo', 'mp', 'ms', 'mt', 'nc', 'nd', 'ne', 'nh', 'nj', 'nm', 'nv', 'ny', 'oh', 'ok', 'or', 'pa', 'pr', 'pw', 'ri', 'sc', 'sd', 'tn', 'tx', 'um', 'ut', 'va', 'vi', 'vt', 'wa', 'wi', 'wv', 'wy']\n"
     ]
    }
   ],
   "source": []
  },
  {
   "cell_type": "code",
   "execution_count": null,
   "metadata": {
    "scrolled": false
   },
   "outputs": [],
   "source": []
  },
  {
   "cell_type": "markdown",
   "metadata": {},
   "source": [
    "## WORKING SCRIPT: COPY FILES TO NEW DIRECTORY & CONVERT COVERAGE TO SHAPEFILE"
   ]
  },
  {
   "cell_type": "code",
   "execution_count": 31,
   "metadata": {
    "scrolled": true
   },
   "outputs": [
    {
     "name": "stdout",
     "output_type": "stream",
     "text": [
      "mnr\n",
      "completed: G:\\data_projects\\sdf_2019\\link_new\\mn\\mnr\n",
      "ndr\n",
      "completed: G:\\data_projects\\sdf_2019\\link_new\\nd\\ndr\n",
      "nhr\n",
      "completed: G:\\data_projects\\sdf_2019\\link_new\\nh\\nhr\n",
      "sdr\n",
      "completed: G:\\data_projects\\sdf_2019\\link_new\\sd\\sdr\n"
     ]
    }
   ],
   "source": [
    "from glob import glob\n",
    "import shutil\n",
    "import os\n",
    "\n",
    "# copy subdirectory example\n",
    "s = r\"G:\\data_projects\\sdf_2019\\link_new\"\n",
    "d = r\"C:\\Users\\allow001\\work\\scratchdata\\st\"\n",
    "\n",
    "for folder in glob(os.path.join(s, \"??\", \"??r\")):\n",
    "    print(folder[38:41])\n",
    "    if not os.path.exists(os.path.join(d,(folder[38:41]))):\n",
    "        n = (os.path.join(d,(folder[38:41])))\n",
    "        os.makedirs(n)\n",
    "        x = n\n",
    "        \n",
    "    else:\n",
    "        x = (os.path.join(d,(folder[38:41])))\n",
    "   \n",
    "    dest = x\n",
    "    arcpy.env.workspace = folder\n",
    "    arcpy.FeatureClassToShapefile_conversion(\"arc\",dest)\n",
    "    print('completed:',folder)\n",
    "    \n",
    "    \n",
    "#arcpy.env.workspace = \"C:/data\"\n",
    "#arcpy.CopyFeatures_management(\"climate.shp\", \"C:/output/output.gdb/climate\")"
   ]
  },
  {
   "cell_type": "markdown",
   "metadata": {},
   "source": [
    "## Reprojection"
   ]
  },
  {
   "cell_type": "code",
   "execution_count": 45,
   "metadata": {},
   "outputs": [
    {
     "name": "stdout",
     "output_type": "stream",
     "text": [
      "C:\\Users\\allow001\\work\\scratchdata\\hydro_shp\\ak_water_poly.shp\n",
      "C:\\Users\\allow001\\work\\scratchdata\\hydro_shp\\al_water_poly.shp\n",
      "C:\\Users\\allow001\\work\\scratchdata\\hydro_shp\\ar_water_poly.shp\n",
      "C:\\Users\\allow001\\work\\scratchdata\\hydro_shp\\az_water_poly.shp\n",
      "C:\\Users\\allow001\\work\\scratchdata\\hydro_shp\\ca_water_poly.shp\n",
      "C:\\Users\\allow001\\work\\scratchdata\\hydro_shp\\co_water_poly.shp\n",
      "C:\\Users\\allow001\\work\\scratchdata\\hydro_shp\\ct_water_poly.shp\n",
      "C:\\Users\\allow001\\work\\scratchdata\\hydro_shp\\dc_water_poly.shp\n",
      "C:\\Users\\allow001\\work\\scratchdata\\hydro_shp\\de_water_poly.shp\n",
      "C:\\Users\\allow001\\work\\scratchdata\\hydro_shp\\fl_water_poly.shp\n",
      "C:\\Users\\allow001\\work\\scratchdata\\hydro_shp\\ga_water_poly.shp\n",
      "C:\\Users\\allow001\\work\\scratchdata\\hydro_shp\\hi_water_poly.shp\n",
      "C:\\Users\\allow001\\work\\scratchdata\\hydro_shp\\ia_water_poly.shp\n",
      "C:\\Users\\allow001\\work\\scratchdata\\hydro_shp\\id_water_poly.shp\n",
      "C:\\Users\\allow001\\work\\scratchdata\\hydro_shp\\il_water_poly.shp\n",
      "C:\\Users\\allow001\\work\\scratchdata\\hydro_shp\\in_water_poly.shp\n",
      "C:\\Users\\allow001\\work\\scratchdata\\hydro_shp\\ks_water_poly.shp\n",
      "C:\\Users\\allow001\\work\\scratchdata\\hydro_shp\\ky_water_poly.shp\n",
      "C:\\Users\\allow001\\work\\scratchdata\\hydro_shp\\la_water_poly.shp\n",
      "C:\\Users\\allow001\\work\\scratchdata\\hydro_shp\\ma_water_poly.shp\n",
      "C:\\Users\\allow001\\work\\scratchdata\\hydro_shp\\md_water_poly.shp\n",
      "C:\\Users\\allow001\\work\\scratchdata\\hydro_shp\\me_water_poly.shp\n",
      "C:\\Users\\allow001\\work\\scratchdata\\hydro_shp\\mi_water_poly.shp\n",
      "C:\\Users\\allow001\\work\\scratchdata\\hydro_shp\\mn_water_poly.shp\n",
      "C:\\Users\\allow001\\work\\scratchdata\\hydro_shp\\mo_water_poly.shp\n",
      "C:\\Users\\allow001\\work\\scratchdata\\hydro_shp\\ms_water_poly.shp\n",
      "C:\\Users\\allow001\\work\\scratchdata\\hydro_shp\\mt_water_poly.shp\n",
      "C:\\Users\\allow001\\work\\scratchdata\\hydro_shp\\nc_water_poly.shp\n",
      "C:\\Users\\allow001\\work\\scratchdata\\hydro_shp\\nd_water_poly.shp\n",
      "C:\\Users\\allow001\\work\\scratchdata\\hydro_shp\\ne_water_poly.shp\n",
      "C:\\Users\\allow001\\work\\scratchdata\\hydro_shp\\nh_water_poly.shp\n",
      "C:\\Users\\allow001\\work\\scratchdata\\hydro_shp\\nj_water_poly.shp\n",
      "C:\\Users\\allow001\\work\\scratchdata\\hydro_shp\\nm_water_poly.shp\n",
      "C:\\Users\\allow001\\work\\scratchdata\\hydro_shp\\nv_water_poly.shp\n",
      "C:\\Users\\allow001\\work\\scratchdata\\hydro_shp\\ny_water_poly.shp\n",
      "C:\\Users\\allow001\\work\\scratchdata\\hydro_shp\\oh_water_poly.shp\n",
      "C:\\Users\\allow001\\work\\scratchdata\\hydro_shp\\ok_water_poly.shp\n",
      "C:\\Users\\allow001\\work\\scratchdata\\hydro_shp\\or_water_poly.shp\n",
      "C:\\Users\\allow001\\work\\scratchdata\\hydro_shp\\pa_water_poly.shp\n",
      "C:\\Users\\allow001\\work\\scratchdata\\hydro_shp\\ri_water_poly.shp\n",
      "C:\\Users\\allow001\\work\\scratchdata\\hydro_shp\\sc_water_poly.shp\n",
      "C:\\Users\\allow001\\work\\scratchdata\\hydro_shp\\sd_water_poly.shp\n",
      "C:\\Users\\allow001\\work\\scratchdata\\hydro_shp\\tn_water_poly.shp\n",
      "C:\\Users\\allow001\\work\\scratchdata\\hydro_shp\\tx_water_poly.shp\n",
      "C:\\Users\\allow001\\work\\scratchdata\\hydro_shp\\ut_water_poly.shp\n",
      "C:\\Users\\allow001\\work\\scratchdata\\hydro_shp\\va_water_poly.shp\n",
      "C:\\Users\\allow001\\work\\scratchdata\\hydro_shp\\vt_water_poly.shp\n",
      "C:\\Users\\allow001\\work\\scratchdata\\hydro_shp\\wa_water_poly.shp\n",
      "C:\\Users\\allow001\\work\\scratchdata\\hydro_shp\\wi_water_poly.shp\n",
      "C:\\Users\\allow001\\work\\scratchdata\\hydro_shp\\wv_water_poly.shp\n",
      "C:\\Users\\allow001\\work\\scratchdata\\hydro_shp\\wy_water_poly.shp\n"
     ]
    }
   ],
   "source": [
    "from glob import glob\n",
    "import os\n",
    "import arcpy\n",
    "\n",
    "# Source location - where are the shapefiles coming from? \n",
    "# Make sure to copy file paths in using \\\\ or / as path separators instead of \\ (escape key) \n",
    "src = \"C:\\\\Users\\\\allow001\\\\work\\\\scratchdata\\\\hydro_shp\" \n",
    "\n",
    "#looks for files ending in .shp in the specificed folder location from src\n",
    "for file in glob(os.path.join(src, \"*.shp\")):\n",
    "    #print(file[-19:-17]+'_water_poly.shp')\n",
    "    #for file in glob(os.path.join(folder,\"???_arc.shp\")):\n",
    "        #print(file)\n",
    "        # input data is in GCS, not projected\n",
    "    input_features = file\n",
    "        # output data\n",
    "    output_feature_class = os.path.join(src,file[-19:-17]+'_water_poly.shp')\n",
    "    print(output_feature_class)\n",
    "    out_coordinate_system = arcpy.SpatialReference('USA Contiguous Albers Equal Area Conic')\n",
    "        # run the tool\n",
    "    arcpy.Project_management(input_features, output_feature_class, out_coordinate_system)\n",
    "\n",
    "\n",
    "# create a spatial reference object for the output coordinate system\n",
    "#out_coordinate_system = arcpy.SpatialReference('USA Contiguous Albers Equal Area Conic')\n",
    "\n",
    "# run the tool\n",
    "#arcpy.Project_management(input_features, output_feature_class, out_coordinate_system)"
   ]
  },
  {
   "cell_type": "code",
   "execution_count": 16,
   "metadata": {
    "collapsed": true
   },
   "outputs": [
    {
     "name": "stdout",
     "output_type": "stream",
     "text": [
      "Projected Coordinate Systems/Continental/Africa/Africa Albers Equal Area Conic\n",
      "Projected Coordinate Systems/Continental/Asia/Asia North Albers Equal Area Conic\n",
      "Projected Coordinate Systems/Continental/Asia/Asia South Albers Equal Area Conic\n",
      "Projected Coordinate Systems/Continental/Europe/Europe Albers Equal Area Conic\n",
      "Projected Coordinate Systems/Continental/North America/Alaska Albers Equal Area Conic\n",
      "Projected Coordinate Systems/Continental/North America/Canada Albers Equal Area Conic\n",
      "Projected Coordinate Systems/Continental/North America/Hawaii Albers Equal Area Conic\n",
      "Projected Coordinate Systems/Continental/North America/NAD 1927 Contiguous USA Albers\n",
      "Projected Coordinate Systems/Continental/North America/NAD 1983 (2011) Contiguous USA Albers\n",
      "Projected Coordinate Systems/Continental/North America/NAD 1983 Contiguous USA Albers\n",
      "Projected Coordinate Systems/Continental/North America/NAD 1983 Great Lakes Basin Albers\n",
      "Projected Coordinate Systems/Continental/North America/NAD 1983 Great Lakes and St. Lawrence Albers\n",
      "Projected Coordinate Systems/Continental/North America/NAD 1983 HARN Contiguous USA Albers\n",
      "Projected Coordinate Systems/Continental/North America/NAD 1983 NSRS2007 Contiguous USA Albers\n",
      "Projected Coordinate Systems/Continental/North America/North America Albers Equal Area Conic\n",
      "Projected Coordinate Systems/Continental/North America/Panhandle Energy Albers\n",
      "Projected Coordinate Systems/Continental/North America/USA Contiguous Albers Equal Area Conic\n",
      "Projected Coordinate Systems/Continental/North America/USA Contiguous Albers Equal Area Conic USGS\n",
      "Projected Coordinate Systems/Continental/South America/South America Albers Equal Area Conic\n",
      "Projected Coordinate Systems/National Grids/Australia/GDA 1994 Australia Albers\n",
      "Projected Coordinate Systems/National Grids/Canada/NAD 1983 BC Environment Albers\n",
      "Projected Coordinate Systems/National Grids/Canada/NAD 1983 CSRS BC Environment Albers\n",
      "Projected Coordinate Systems/National Grids/Canada/NAD 1983 CSRS Quebec Albers\n",
      "Projected Coordinate Systems/National Grids/Canada/NAD 1983 CSRS Yukon Albers\n",
      "Projected Coordinate Systems/National Grids/Canada/NAD 1983 Quebec Albers\n",
      "Projected Coordinate Systems/National Grids/Canada/NAD 1983 Yukon Albers\n",
      "Projected Coordinate Systems/State Systems/NAD 1927 Alaska Albers (Meters)\n",
      "Projected Coordinate Systems/State Systems/NAD 1927 Alaska Albers (US Feet)\n",
      "Projected Coordinate Systems/State Systems/NAD 1927 California (Teale) Albers (Meters)\n",
      "Projected Coordinate Systems/State Systems/NAD 1927 Georgia Statewide Albers (US Feet)\n",
      "Projected Coordinate Systems/State Systems/NAD 1983 (2011) Alaska Albers (Meters)\n",
      "Projected Coordinate Systems/State Systems/NAD 1983 (2011) California (Teale) Albers (Meters)\n",
      "Projected Coordinate Systems/State Systems/NAD 1983 (2011) Florida GDL Albers (Meters)\n",
      "Projected Coordinate Systems/State Systems/NAD 1983 (CORS96) Alaska Albers (Meters)\n",
      "Projected Coordinate Systems/State Systems/NAD 1983 Albers BLM Montana, North Dakota, South Dakota\n",
      "Projected Coordinate Systems/State Systems/NAD 1983 California (Teale) Albers (Meters)\n",
      "Projected Coordinate Systems/State Systems/NAD 1983 California (Teale) Albers (US Feet)\n",
      "Projected Coordinate Systems/State Systems/NAD 1983 Florida GDL Albers (Meters)\n",
      "Projected Coordinate Systems/State Systems/NAD 1983 HARN California (Teale) Albers (Meters)\n",
      "Projected Coordinate Systems/State Systems/NAD 1983 HARN Florida GDL Albers (Meters)\n",
      "Projected Coordinate Systems/State Systems/NAD 1983 NSRS2007 Alaska Albers (Meters)\n",
      "Projected Coordinate Systems/State Systems/NAD 1983 NSRS2007 California (Teale) Albers (Meters)\n",
      "Projected Coordinate Systems/State Systems/NAD 1983 NSRS2007 Florida GDL Albers (Meters)\n",
      "Projected Coordinate Systems/State Systems/NAD 1983 USFS R6 Albers (Meters)\n",
      "Projected Coordinate Systems/State Systems/NAD 1983 USFS R9 Albers (Meters)\n",
      "Projected Coordinate Systems/State Systems/WGS 1984 California (Teale) Albers (US Feet)\n",
      "Projected Coordinate Systems/State Systems/Texas/NAD 1983 (2011) Texas Centric Mapping System Albers (Meters)\n",
      "Projected Coordinate Systems/State Systems/Texas/NAD 1983 HARN Texas Centric Mapping System Albers (Meters)\n",
      "Projected Coordinate Systems/State Systems/Texas/NAD 1983 NSRS2007 Texas Centric Mapping System Albers (Meters)\n",
      "Projected Coordinate Systems/State Systems/Texas/NAD 1983 Texas Centric Mapping System Albers (Meters)\n"
     ]
    }
   ],
   "source": [
    "import arcpy \n",
    "\n",
    "srs = arcpy.ListSpatialReferences(\"*Albers*\")\n",
    "for sr_name in srs:\n",
    "    print(sr_name)"
   ]
  },
  {
   "cell_type": "markdown",
   "metadata": {},
   "source": [
    "## need to do - rename projected shps to final names"
   ]
  },
  {
   "cell_type": "code",
   "execution_count": null,
   "metadata": {},
   "outputs": [],
   "source": [
    "# Name: Rename_SHP.py\n",
    "# Description: Rename 200 street/rr lines and hydro lines shapefiles to finalize \n",
    "\n",
    "# Import system modules\n",
    "import arcpy\n",
    "from arcpy import env\n",
    "\n",
    "# Set workspace\n",
    "env.workspace = \"C:/workspace/test.gdb\"\n",
    "\n",
    "# Set local variables\n",
    "in_data =  \"test\"\n",
    "out_data = \"testFC\"\n",
    "data_type = \"FeatureClass\"\n",
    "\n",
    "# Execute Rename\n",
    "arcpy.Rename_management(in_data, out_data, data_type)"
   ]
  },
  {
   "cell_type": "markdown",
   "metadata": {},
   "source": [
    "## water polygon conversion"
   ]
  },
  {
   "cell_type": "code",
   "execution_count": 51,
   "metadata": {},
   "outputs": [
    {
     "name": "stdout",
     "output_type": "stream",
     "text": [
      "'G:\\data_projects\\sdf_2019\\link_new\\ak\\state\\ak\\region.water';\n",
      "'G:\\data_projects\\sdf_2019\\link_new\\al\\state\\al\\region.water';\n",
      "'G:\\data_projects\\sdf_2019\\link_new\\ar\\state\\ar\\region.water';\n",
      "'G:\\data_projects\\sdf_2019\\link_new\\as\\state\\as\\region.water';\n",
      "'G:\\data_projects\\sdf_2019\\link_new\\az\\state\\az\\region.water';\n",
      "'G:\\data_projects\\sdf_2019\\link_new\\ca\\state\\ca\\region.water';\n",
      "'G:\\data_projects\\sdf_2019\\link_new\\co\\state\\co\\region.water';\n",
      "'G:\\data_projects\\sdf_2019\\link_new\\ct\\state\\ct\\region.water';\n",
      "'G:\\data_projects\\sdf_2019\\link_new\\dc\\state\\dc\\region.water';\n",
      "'G:\\data_projects\\sdf_2019\\link_new\\de\\state\\de\\region.water';\n",
      "'G:\\data_projects\\sdf_2019\\link_new\\fl\\state\\fl\\region.water';\n",
      "'G:\\data_projects\\sdf_2019\\link_new\\ga\\state\\ga\\region.water';\n",
      "'G:\\data_projects\\sdf_2019\\link_new\\gu\\state\\gu\\region.water';\n",
      "'G:\\data_projects\\sdf_2019\\link_new\\hi\\state\\hi\\region.water';\n",
      "'G:\\data_projects\\sdf_2019\\link_new\\ia\\state\\ia\\region.water';\n",
      "'G:\\data_projects\\sdf_2019\\link_new\\id\\state\\id\\region.water';\n",
      "'G:\\data_projects\\sdf_2019\\link_new\\il\\state\\il\\region.water';\n",
      "'G:\\data_projects\\sdf_2019\\link_new\\in\\state\\in\\region.water';\n",
      "'G:\\data_projects\\sdf_2019\\link_new\\ks\\state\\ks\\region.water';\n",
      "'G:\\data_projects\\sdf_2019\\link_new\\ky\\state\\ky\\region.water';\n",
      "'G:\\data_projects\\sdf_2019\\link_new\\la\\state\\la\\region.water';\n",
      "'G:\\data_projects\\sdf_2019\\link_new\\ma\\state\\ma\\region.water';\n",
      "'G:\\data_projects\\sdf_2019\\link_new\\md\\state\\md\\region.water';\n",
      "'G:\\data_projects\\sdf_2019\\link_new\\me\\state\\me\\region.water';\n",
      "'G:\\data_projects\\sdf_2019\\link_new\\mi\\state\\mi\\region.water';\n",
      "'G:\\data_projects\\sdf_2019\\link_new\\mn\\state\\mn\\region.water';\n",
      "'G:\\data_projects\\sdf_2019\\link_new\\mo\\state\\mo\\region.water';\n",
      "'G:\\data_projects\\sdf_2019\\link_new\\mp\\state\\mp\\region.water';\n",
      "'G:\\data_projects\\sdf_2019\\link_new\\ms\\state\\ms\\region.water';\n",
      "'G:\\data_projects\\sdf_2019\\link_new\\mt\\state\\mt\\region.water';\n",
      "'G:\\data_projects\\sdf_2019\\link_new\\nc\\state\\nc\\region.water';\n",
      "'G:\\data_projects\\sdf_2019\\link_new\\nd\\state\\nd\\region.water';\n",
      "'G:\\data_projects\\sdf_2019\\link_new\\ne\\state\\ne\\region.water';\n",
      "'G:\\data_projects\\sdf_2019\\link_new\\nh\\state\\nh\\region.water';\n",
      "'G:\\data_projects\\sdf_2019\\link_new\\nj\\state\\nj\\region.water';\n",
      "'G:\\data_projects\\sdf_2019\\link_new\\nm\\state\\nm\\region.water';\n",
      "'G:\\data_projects\\sdf_2019\\link_new\\nv\\state\\nv\\region.water';\n",
      "'G:\\data_projects\\sdf_2019\\link_new\\ny\\state\\ny\\region.water';\n",
      "'G:\\data_projects\\sdf_2019\\link_new\\oh\\state\\oh\\region.water';\n",
      "'G:\\data_projects\\sdf_2019\\link_new\\ok\\state\\ok\\region.water';\n",
      "'G:\\data_projects\\sdf_2019\\link_new\\or\\state\\or\\region.water';\n",
      "'G:\\data_projects\\sdf_2019\\link_new\\pa\\state\\pa\\region.water';\n",
      "'G:\\data_projects\\sdf_2019\\link_new\\pr\\state\\pr\\region.water';\n",
      "'G:\\data_projects\\sdf_2019\\link_new\\pw\\state\\pw\\region.water';\n",
      "'G:\\data_projects\\sdf_2019\\link_new\\ri\\state\\ri\\region.water';\n",
      "'G:\\data_projects\\sdf_2019\\link_new\\sc\\state\\sc\\region.water';\n",
      "'G:\\data_projects\\sdf_2019\\link_new\\sd\\state\\sd\\region.water';\n",
      "'G:\\data_projects\\sdf_2019\\link_new\\tn\\state\\tn\\region.water';\n",
      "'G:\\data_projects\\sdf_2019\\link_new\\tx\\state\\tx\\region.water';\n",
      "'G:\\data_projects\\sdf_2019\\link_new\\um\\state\\um\\region.water';\n",
      "'G:\\data_projects\\sdf_2019\\link_new\\ut\\state\\ut\\region.water';\n",
      "'G:\\data_projects\\sdf_2019\\link_new\\va\\state\\va\\region.water';\n",
      "'G:\\data_projects\\sdf_2019\\link_new\\vi\\state\\vi\\region.water';\n",
      "'G:\\data_projects\\sdf_2019\\link_new\\vt\\state\\vt\\region.water';\n",
      "'G:\\data_projects\\sdf_2019\\link_new\\wa\\state\\wa\\region.water';\n",
      "'G:\\data_projects\\sdf_2019\\link_new\\wi\\state\\wi\\region.water';\n",
      "'G:\\data_projects\\sdf_2019\\link_new\\wv\\state\\wv\\region.water';\n",
      "'G:\\data_projects\\sdf_2019\\link_new\\wy\\state\\wy\\region.water';\n"
     ]
    }
   ],
   "source": [
    "from glob import glob\n",
    "import os\n",
    "import arcpy\n",
    "\n",
    "ogpath = r\"G:\\data_projects\\sdf_2019\\link_new\"\n",
    "states = ['ak',\n",
    "'al',\n",
    "'ar',\n",
    "'as',\n",
    "'az',\n",
    "'ca',\n",
    "'co',\n",
    "'ct',\n",
    "'dc',\n",
    "'de',\n",
    "'fl',\n",
    "'ga',\n",
    "'gu',\n",
    "'hi',\n",
    "'ia',\n",
    "'id',\n",
    "'il',\n",
    "'in',\n",
    "'ks',\n",
    "'ky',\n",
    "'la',\n",
    "'ma',\n",
    "'md',\n",
    "'me',\n",
    "'mi',\n",
    "'mn',\n",
    "'mo',\n",
    "'ms',\n",
    "'mt',\n",
    "'nc',\n",
    "'nd',\n",
    "'ne',\n",
    "'nh',\n",
    "'nj',\n",
    "'nm',\n",
    "'nv',\n",
    "'ny',\n",
    "'oh',\n",
    "'ok',\n",
    "'or',\n",
    "'pa',\n",
    "'ri',\n",
    "'sc',\n",
    "'sd',\n",
    "'tn',\n",
    "'tx',\n",
    "'ut',\n",
    "'va',\n",
    "'vt',\n",
    "'wa',\n",
    "'wi',\n",
    "'wv',\n",
    "'wy',\n",
    "]\n",
    "\n",
    "for folder in glob(os.path.join(ogpath, \"??\")):\n",
    "    st = (folder[-2:])\n",
    "    infeat = os.path.join(ogpath + '\\\\' + st +'\\\\'+ 'state' +'\\\\'+ st +'\\\\'+ 'region.water')\n",
    "    print(\"'\"+infeat+\"'\"+';')\n",
    "    #if st in states:\n",
    "        #arcpy.FeatureClassToShapefile_conversion(Input_Features=infeat, Output_Folder=\"C:/Users/allow001/work/scratchdata/hydro_shp\")\n",
    "        #print('completed: ',infeat)\n",
    "    "
   ]
  },
  {
   "cell_type": "markdown",
   "metadata": {},
   "source": [
    "## URLLIB"
   ]
  },
  {
   "cell_type": "code",
   "execution_count": 16,
   "metadata": {},
   "outputs": [
    {
     "data": {
      "text/plain": [
       "('tl_2018_us_county.zip', <http.client.HTTPMessage at 0x187d4b00860>)"
      ]
     },
     "execution_count": 16,
     "metadata": {},
     "output_type": "execute_result"
    }
   ],
   "source": [
    "url = \"https://www2.census.gov/geo/tiger/TIGER2018/COUNTY/tl_2018_us_county.zip\"\n",
    " \n",
    "# downloading with requests\n",
    " \n",
    "# import the requests library\n",
    "import requests\n",
    " \n",
    " \n",
    "# download the file contents in binary format\n",
    "r = requests.get(url)\n",
    " \n",
    "# open method to open a file on your system and write the contents\n",
    "with open(\"tl_2018_us_county.zip\", \"wb\") as code:\n",
    "    code.write(r.content)\n",
    " \n",
    " \n",
    "# downloading with urllib\n",
    " \n",
    "# import the urllib library\n",
    "import urllib.request\n",
    " \n",
    "# Copy a network object to a local file\n",
    "urllib.request.urlretrieve(url, \"tl_2018_us_county.zip\")"
   ]
  },
  {
   "cell_type": "code",
   "execution_count": null,
   "metadata": {},
   "outputs": [],
   "source": [
    "import arcpy \n",
    "#Set geoprocessing environments \n",
    "arcpy.env.workspace = \"C:/Student/PythonBasics10_0/Westerville.gdb\"\n",
    "arcpy.env.overwriteOutput = True \n",
    "\n",
    "# Set name of output fc and select buildings by location\n",
    "Outputfc =  \"BuildingsWithin50ft\"\n",
    "Selection = arcpy.SelectLayerByLocation_management(\"Buildings\", \"WITHIN_A_DISTANCE\", \"Hydrography\", \"50 feet\", \"NEW_SELECTION\",\"NOT_INVERT\") \n",
    "\n",
    "arcpy.CopyFeatures_management(Selection, Outputfc) "
   ]
  },
  {
   "cell_type": "code",
   "execution_count": 60,
   "metadata": {},
   "outputs": [
    {
     "ename": "SyntaxError",
     "evalue": "EOF while scanning triple-quoted string literal (<ipython-input-60-cce07f5f252b>, line 51)",
     "output_type": "error",
     "traceback": [
      "\u001b[1;36m  File \u001b[1;32m\"<ipython-input-60-cce07f5f252b>\"\u001b[1;36m, line \u001b[1;32m51\u001b[0m\n\u001b[1;33m    'G:\\data_projects\\sdf_2019\\link_new\\wy\\state\\wy\\region.water'\u001b[0m\n\u001b[1;37m                                                                 \n^\u001b[0m\n\u001b[1;31mSyntaxError\u001b[0m\u001b[1;31m:\u001b[0m EOF while scanning triple-quoted string literal\n"
     ]
    }
   ],
   "source": [
    "infeat = ['G:\\data_projects\\sdf_2019\\link_new\\ak\\state\\ak\\region.water',\n",
    "'G:\\data_projects\\sdf_2019\\link_new\\al\\state\\al\\region.water',\n",
    "'G:\\data_projects\\sdf_2019\\link_new\\ar\\state\\ar\\region.water',\n",
    "'G:\\data_projects\\sdf_2019\\link_new\\az\\state\\az\\region.water',\n",
    "'G:\\data_projects\\sdf_2019\\link_new\\ca\\state\\ca\\region.water',\n",
    "'G:\\data_projects\\sdf_2019\\link_new\\co\\state\\co\\region.water',\n",
    "'G:\\data_projects\\sdf_2019\\link_new\\ct\\state\\ct\\region.water',\n",
    "'G:\\data_projects\\sdf_2019\\link_new\\dc\\state\\dc\\region.water',\n",
    "'G:\\data_projects\\sdf_2019\\link_new\\de\\state\\de\\region.water',\n",
    "'G:\\data_projects\\sdf_2019\\link_new\\fl\\state\\fl\\region.water',\n",
    "'G:\\data_projects\\sdf_2019\\link_new\\ga\\state\\ga\\region.water',\n",
    "'G:\\data_projects\\sdf_2019\\link_new\\hi\\state\\hi\\region.water',\n",
    "'G:\\data_projects\\sdf_2019\\link_new\\ia\\state\\ia\\region.water',\n",
    "'G:\\data_projects\\sdf_2019\\link_new\\id\\state\\id\\region.water',\n",
    "'G:\\data_projects\\sdf_2019\\link_new\\il\\state\\il\\region.water',\n",
    "'G:\\data_projects\\sdf_2019\\link_new\\in\\state\\in\\region.water',\n",
    "'G:\\data_projects\\sdf_2019\\link_new\\ks\\state\\ks\\region.water',\n",
    "'G:\\data_projects\\sdf_2019\\link_new\\ky\\state\\ky\\region.water',\n",
    "'G:\\data_projects\\sdf_2019\\link_new\\la\\state\\la\\region.water',\n",
    "'G:\\data_projects\\sdf_2019\\link_new\\ma\\state\\ma\\region.water',\n",
    "'G:\\data_projects\\sdf_2019\\link_new\\md\\state\\md\\region.water',\n",
    "'G:\\data_projects\\sdf_2019\\link_new\\me\\state\\me\\region.water',\n",
    "'G:\\data_projects\\sdf_2019\\link_new\\mi\\state\\mi\\region.water',\n",
    "'G:\\data_projects\\sdf_2019\\link_new\\mn\\state\\mn\\region.water',\n",
    "'G:\\data_projects\\sdf_2019\\link_new\\mo\\state\\mo\\region.water',\n",
    "'G:\\data_projects\\sdf_2019\\link_new\\ms\\state\\ms\\region.water',\n",
    "'G:\\data_projects\\sdf_2019\\link_new\\mt\\state\\mt\\region.water',\n",
    "'G:\\data_projects\\sdf_2019\\link_new\\nc\\state\\nc\\region.water',\n",
    "'G:\\data_projects\\sdf_2019\\link_new\\nd\\state\\nd\\region.water',\n",
    "'G:\\data_projects\\sdf_2019\\link_new\\ne\\state\\ne\\region.water',\n",
    "'G:\\data_projects\\sdf_2019\\link_new\\nh\\state\\nh\\region.water',\n",
    "'G:\\data_projects\\sdf_2019\\link_new\\nj\\state\\nj\\region.water',\n",
    "'G:\\data_projects\\sdf_2019\\link_new\\nm\\state\\nm\\region.water',\n",
    "'G:\\data_projects\\sdf_2019\\link_new\\nv\\state\\nv\\region.water',\n",
    "'G:\\data_projects\\sdf_2019\\link_new\\ny\\state\\ny\\region.water',\n",
    "'G:\\data_projects\\sdf_2019\\link_new\\oh\\state\\oh\\region.water',\n",
    "'G:\\data_projects\\sdf_2019\\link_new\\ok\\state\\ok\\region.water',\n",
    "'G:\\data_projects\\sdf_2019\\link_new\\or\\state\\or\\region.water',\n",
    "'G:\\data_projects\\sdf_2019\\link_new\\pa\\state\\pa\\region.water',\n",
    "'G:\\data_projects\\sdf_2019\\link_new\\ri\\state\\ri\\region.water',\n",
    "'G:\\data_projects\\sdf_2019\\link_new\\sc\\state\\sc\\region.water',\n",
    "'G:\\data_projects\\sdf_2019\\link_new\\sd\\state\\sd\\region.water',\n",
    "'G:\\data_projects\\sdf_2019\\link_new\\tn\\state\\tn\\region.water',\n",
    "'G:\\data_projects\\sdf_2019\\link_new\\tx\\state\\tx\\region.water',\n",
    "'G:\\data_projects\\sdf_2019\\link_new\\ut\\state\\ut\\region.water',\n",
    "'G:\\data_projects\\sdf_2019\\link_new\\va\\state\\va\\region.water',\n",
    "'G:\\data_projects\\sdf_2019\\link_new\\vt\\state\\vt\\region.water',\n",
    "'G:\\data_projects\\sdf_2019\\link_new\\wa\\state\\wa\\region.water',\n",
    "'G:\\data_projects\\sdf_2019\\link_new\\wi\\state\\wi\\region.water',\n",
    "'G:\\data_projects\\sdf_2019\\link_new\\wv\\state\\wv\\region.water',\n",
    "'G:\\data_projects\\sdf_2019\\link_new\\wy\\state\\wy\\region.water'"
   ]
  },
  {
   "cell_type": "code",
   "execution_count": 61,
   "metadata": {},
   "outputs": [
    {
     "data": {
      "text/plain": [
       "<Result 'C:\\\\Users\\\\allow001\\\\work\\\\scratchdata\\\\hydro_shp'>"
      ]
     },
     "execution_count": 61,
     "metadata": {},
     "output_type": "execute_result"
    }
   ],
   "source": [
    "infeat = ['G:\\\\data_projects\\\\sdf_2019\\\\link_new\\\\ak\\\\state\\\\ak\\\\region.water',\n",
    "'G:\\\\data_projects\\\\sdf_2019\\\\link_new\\\\al\\\\state\\\\al\\\\region.water',\n",
    "'G:\\\\data_projects\\\\sdf_2019\\\\link_new\\\\ar\\\\state\\\\ar\\\\region.water']\n",
    "arcpy.FeatureClassToShapefile_conversion(Input_Features=infeat, Output_Folder=\"C:/Users/allow001/work/scratchdata/hydro_shp\")"
   ]
  },
  {
   "cell_type": "markdown",
   "metadata": {},
   "source": [
    "## copied from batch feature class to shp"
   ]
  },
  {
   "cell_type": "code",
   "execution_count": 63,
   "metadata": {},
   "outputs": [
    {
     "ename": "KeyboardInterrupt",
     "evalue": "",
     "output_type": "error",
     "traceback": [
      "\u001b[1;31m---------------------------------------------------------------------------\u001b[0m",
      "\u001b[1;31mKeyboardInterrupt\u001b[0m                         Traceback (most recent call last)",
      "\u001b[1;32mc:\\program files\\arcgis\\pro\\Resources\\ArcToolbox\\Scripts\\FeatureclassConversion.py\u001b[0m in \u001b[0;36m<module>\u001b[1;34m()\u001b[0m\n\u001b[0;32m     78\u001b[0m \u001b[1;33m\u001b[0m\u001b[0m\n\u001b[0;32m     79\u001b[0m \u001b[1;32mif\u001b[0m \u001b[0m__name__\u001b[0m \u001b[1;33m==\u001b[0m \u001b[1;34m'__main__'\u001b[0m\u001b[1;33m:\u001b[0m\u001b[1;33m\u001b[0m\u001b[0m\n\u001b[1;32m---> 80\u001b[1;33m     \u001b[0mexecute\u001b[0m\u001b[1;33m(\u001b[0m\u001b[1;33m)\u001b[0m\u001b[1;33m\u001b[0m\u001b[0m\n\u001b[0m",
      "\u001b[1;32mc:\\program files\\arcgis\\pro\\Resources\\ArcToolbox\\Scripts\\FeatureclassConversion.py\u001b[0m in \u001b[0;36mexecute\u001b[1;34m()\u001b[0m\n\u001b[0;32m     57\u001b[0m \u001b[1;33m\u001b[0m\u001b[0m\n\u001b[0;32m     58\u001b[0m             \u001b[1;31m# Generate a valid output output name\u001b[0m\u001b[1;33m\u001b[0m\u001b[1;33m\u001b[0m\u001b[0m\n\u001b[1;32m---> 59\u001b[1;33m             \u001b[0moutFeatureClass\u001b[0m \u001b[1;33m=\u001b[0m \u001b[0mConversionUtils\u001b[0m\u001b[1;33m.\u001b[0m\u001b[0mGenerateOutputName\u001b[0m\u001b[1;33m(\u001b[0m\u001b[0minFeatureClass\u001b[0m\u001b[1;33m,\u001b[0m \u001b[0moutWorkspace\u001b[0m\u001b[1;33m)\u001b[0m\u001b[1;33m\u001b[0m\u001b[0m\n\u001b[0m\u001b[0;32m     60\u001b[0m \u001b[1;33m\u001b[0m\u001b[0m\n\u001b[0;32m     61\u001b[0m             \u001b[1;31m# Copy/Convert the inFeatureClasses to the outFeatureClasses\u001b[0m\u001b[1;33m\u001b[0m\u001b[1;33m\u001b[0m\u001b[0m\n",
      "\u001b[1;32mc:\\program files\\arcgis\\pro\\Resources\\ArcToolbox\\Scripts\\ConversionUtils.py\u001b[0m in \u001b[0;36mGenerateOutputName\u001b[1;34m(inName, outWorkspace, beforeVSafter)\u001b[0m\n\u001b[0;32m     82\u001b[0m             \u001b[1;31m# combination of the input feature dataset and feature class name. For example if the input\u001b[0m\u001b[1;33m\u001b[0m\u001b[1;33m\u001b[0m\u001b[0m\n\u001b[0;32m     83\u001b[0m             \u001b[1;31m# is \"c:\\gdb.mdb\\fds\\fc\" the name for the output feature class would be \"fds_fc\"\u001b[0m\u001b[1;33m\u001b[0m\u001b[1;33m\u001b[0m\u001b[0m\n\u001b[1;32m---> 84\u001b[1;33m             \u001b[1;32mif\u001b[0m \u001b[0mdsc\u001b[0m\u001b[1;33m.\u001b[0m\u001b[0mDataType\u001b[0m \u001b[1;33m==\u001b[0m \u001b[1;34m\"CoverageFeatureClass\"\u001b[0m \u001b[1;32mor\u001b[0m\u001b[0;31m \u001b[0m\u001b[0;31m\\\u001b[0m\u001b[1;33m\u001b[0m\u001b[0m\n\u001b[0m\u001b[0;32m     85\u001b[0m                             \u001b[0mdscInContainer\u001b[0m\u001b[1;33m.\u001b[0m\u001b[0mDataType\u001b[0m \u001b[1;32min\u001b[0m \u001b[1;33m[\u001b[0m\u001b[1;34m\"VPFCoverage\"\u001b[0m\u001b[1;33m,\u001b[0m \u001b[1;34m\"CadDrawingDataset\"\u001b[0m\u001b[1;33m,\u001b[0m \u001b[1;34m\"RasterDataset\"\u001b[0m\u001b[1;33m]\u001b[0m\u001b[1;33m:\u001b[0m\u001b[1;33m\u001b[0m\u001b[0m\n\u001b[0;32m     86\u001b[0m                 \u001b[0moutName\u001b[0m \u001b[1;33m=\u001b[0m \u001b[0minContainerName\u001b[0m \u001b[1;33m+\u001b[0m \u001b[1;34m\"_\"\u001b[0m \u001b[1;33m+\u001b[0m \u001b[0moutName\u001b[0m\u001b[1;33m\u001b[0m\u001b[0m\n",
      "\u001b[1;31mKeyboardInterrupt\u001b[0m: "
     ]
    },
    {
     "data": {
      "text/plain": [
       "<Result ''>"
      ]
     },
     "execution_count": 63,
     "metadata": {},
     "output_type": "execute_result"
    }
   ],
   "source": [
    "arcpy.FeatureClassToShapefile_conversion(Input_Features=\"G:/data_projects/sdf_2019/link_new/ak/state/ak/region.water;G:/data_projects/sdf_2019/link_new/al/state/al/region.water;G:/data_projects/sdf_2019/link_new/ar/state/ar/region.water;G:/data_projects/sdf_2019/link_new/az/state/az/region.water;G:/data_projects/sdf_2019/link_new/ca/state/ca/region.water;G:/data_projects/sdf_2019/link_new/co/state/co/region.water;G:/data_projects/sdf_2019/link_new/ct/state/ct/region.water;G:/data_projects/sdf_2019/link_new/dc/state/dc/region.water;G:/data_projects/sdf_2019/link_new/de/state/de/region.water;G:/data_projects/sdf_2019/link_new/fl/state/fl/region.water;G:/data_projects/sdf_2019/link_new/ga/state/ga/region.water;G:/data_projects/sdf_2019/link_new/hi/state/hi/region.water;G:/data_projects/sdf_2019/link_new/ia/state/ia/region.water;G:/data_projects/sdf_2019/link_new/id/state/id/region.water;G:/data_projects/sdf_2019/link_new/il/state/il/region.water;G:/data_projects/sdf_2019/link_new/in/state/in/region.water;G:/data_projects/sdf_2019/link_new/ks/state/ks/region.water;G:/data_projects/sdf_2019/link_new/ky/state/ky/region.water;G:/data_projects/sdf_2019/link_new/la/state/la/region.water;G:/data_projects/sdf_2019/link_new/ma/state/ma/region.water;G:/data_projects/sdf_2019/link_new/md/state/md/region.water;G:/data_projects/sdf_2019/link_new/me/state/me/region.water;G:/data_projects/sdf_2019/link_new/mi/state/mi/region.water;G:/data_projects/sdf_2019/link_new/mn/state/mn/region.water;G:/data_projects/sdf_2019/link_new/mo/state/mo/region.water;G:/data_projects/sdf_2019/link_new/ms/state/ms/region.water;G:/data_projects/sdf_2019/link_new/mt/state/mt/region.water;G:/data_projects/sdf_2019/link_new/nc/state/nc/region.water;G:/data_projects/sdf_2019/link_new/nd/state/nd/region.water;G:/data_projects/sdf_2019/link_new/ne/state/ne/region.water;G:/data_projects/sdf_2019/link_new/nh/state/nh/region.water;G:/data_projects/sdf_2019/link_new/nj/state/nj/region.water;G:/data_projects/sdf_2019/link_new/nm/state/nm/region.water;G:/data_projects/sdf_2019/link_new/nv/state/nv/region.water;G:/data_projects/sdf_2019/link_new/ny/state/ny/region.water;G:/data_projects/sdf_2019/link_new/oh/state/oh/region.water;G:/data_projects/sdf_2019/link_new/ok/state/ok/region.water;G:/data_projects/sdf_2019/link_new/or/state/or/region.water;G:/data_projects/sdf_2019/link_new/pa/state/pa/region.water;G:/data_projects/sdf_2019/link_new/ri/state/ri/region.water;G:/data_projects/sdf_2019/link_new/sc/state/sc/region.water;G:/data_projects/sdf_2019/link_new/sd/state/sd/region.water;G:/data_projects/sdf_2019/link_new/tn/state/tn/region.water;G:/data_projects/sdf_2019/link_new/tx/state/tx/region.water;G:/data_projects/sdf_2019/link_new/ut/state/ut/region.water;G:/data_projects/sdf_2019/link_new/va/state/va/region.water;G:/data_projects/sdf_2019/link_new/vt/state/vt/region.water;G:/data_projects/sdf_2019/link_new/wa/state/wa/region.water;G:/data_projects/sdf_2019/link_new/wi/state/wi/region.water;G:/data_projects/sdf_2019/link_new/wv/state/wv/region.water;G:/data_projects/sdf_2019/link_new/wy/state/wy/region.water\", Output_Folder=\"C:/Users/allow001/work/scratchdata/hydro_shp\")"
   ]
  },
  {
   "cell_type": "code",
   "execution_count": null,
   "metadata": {},
   "outputs": [],
   "source": [
    "arcpy.FeatureClassToFeatureClass_conversion(in_features=\"G:/data_projects/sdf_2019/link_new/fl/state/fl/region.water\", out_path=\"C:/Users/allow001/work/scratchdata/hydro_shp\", out_name=\"florida_water.shp\", where_clause=\"\", field_mapping='AREA \"AREA\" false true true 8 Double 0 0 ,First,#,G:\\data_projects\\sdf_2019\\link_new\\fl\\state\\fl\\region.water,AREA,-1,-1;PERIMETER \"PERIMETER\" false true true 8 Double 0 0 ,First,#,G:\\data_projects\\sdf_2019\\link_new\\fl\\state\\fl\\region.water,PERIMETER,-1,-1;WATER_ \"WATER_\" false true true 4 Long 0 0 ,First,#,G:\\data_projects\\sdf_2019\\link_new\\fl\\state\\fl\\region.water,WATER#,-1,-1;WATER_ID \"WATER_ID\" true true true 4 Long 0 0 ,First,#,G:\\data_projects\\sdf_2019\\link_new\\fl\\state\\fl\\region.water,WATER-ID,-1,-1;WATER \"WATER\" true true false 1 Short 0 1 ,First,#,G:\\data_projects\\sdf_2019\\link_new\\fl\\state\\fl\\region.water,WATER,-1,-1;STATE \"STATE\" true true false 3 Text 0 0 ,First,#,G:\\data_projects\\sdf_2019\\link_new\\fl\\state\\fl\\region.water,STATE,-1,-1;COUNTY \"COUNTY\" true true false 4 Text 0 0 ,First,#,G:\\data_projects\\sdf_2019\\link_new\\fl\\state\\fl\\region.water,COUNTY,-1,-1', config_keyword=\"\")"
   ]
  }
 ],
 "metadata": {
  "kernelspec": {
   "display_name": "Python 3",
   "language": "python",
   "name": "python3"
  },
  "language_info": {
   "codemirror_mode": {
    "name": "ipython",
    "version": 3
   },
   "file_extension": ".py",
   "mimetype": "text/x-python",
   "name": "python",
   "nbconvert_exporter": "python",
   "pygments_lexer": "ipython3",
   "version": "3.6.6"
  }
 },
 "nbformat": 4,
 "nbformat_minor": 2
}
