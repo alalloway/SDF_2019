{
 "cells": [
  {
   "cell_type": "code",
   "execution_count": 5,
   "metadata": {},
   "outputs": [],
   "source": [
    "import wget\n"
   ]
  },
  {
   "cell_type": "code",
   "execution_count": 7,
   "metadata": {},
   "outputs": [
    {
     "name": "stdout",
     "output_type": "stream",
     "text": [
      "Type URL to download from, such as: https://www2.census.gov/geo/tiger/TIGER2018/\n",
      "https://www2.census.gov/geo/tiger/TIGER2018/\n"
     ]
    }
   ],
   "source": [
    "print('Type URL to download from, such as: https://www2.census.gov/geo/tiger/TIGER2018/')\n",
    "url = input(\"\") "
   ]
  },
  {
   "cell_type": "code",
   "execution_count": 10,
   "metadata": {},
   "outputs": [
    {
     "name": "stdout",
     "output_type": "stream",
     "text": [
      "h\n",
      "t\n",
      "t\n",
      "p\n",
      "s\n",
      ":\n",
      "/\n",
      "/\n",
      "w\n",
      "w\n",
      "w\n",
      "2\n",
      ".\n",
      "c\n",
      "e\n",
      "n\n",
      "s\n",
      "u\n",
      "s\n",
      ".\n",
      "g\n",
      "o\n",
      "v\n",
      "/\n",
      "g\n",
      "e\n",
      "o\n",
      "/\n",
      "t\n",
      "i\n",
      "g\n",
      "e\n",
      "r\n",
      "/\n",
      "T\n",
      "I\n",
      "G\n",
      "E\n",
      "R\n",
      "2\n",
      "0\n",
      "1\n",
      "8\n",
      "/\n"
     ]
    }
   ],
   "source": [
    "for folder in url:\n",
    "    print(folder)\n",
    "\n",
    "#wget.download(url, ('C:/Users/allow001/Downloads/'+filename))"
   ]
  },
  {
   "cell_type": "code",
   "execution_count": null,
   "metadata": {},
   "outputs": [],
   "source": []
  }
 ],
 "metadata": {
  "kernelspec": {
   "display_name": "Python 3",
   "language": "python",
   "name": "python3"
  },
  "language_info": {
   "codemirror_mode": {
    "name": "ipython",
    "version": 3
   },
   "file_extension": ".py",
   "mimetype": "text/x-python",
   "name": "python",
   "nbconvert_exporter": "python",
   "pygments_lexer": "ipython3",
   "version": "3.7.3"
  }
 },
 "nbformat": 4,
 "nbformat_minor": 2
}
