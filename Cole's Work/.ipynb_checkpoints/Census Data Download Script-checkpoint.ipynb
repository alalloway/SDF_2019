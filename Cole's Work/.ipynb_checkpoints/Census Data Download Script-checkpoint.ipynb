{
 "cells": [
  {
   "cell_type": "markdown",
   "metadata": {},
   "source": [
    "# Census Data Download Script\n",
    "This script is for downloading the specified file directories from the US Census Geo-Tiger FTP Site. Please note that this script must be run in Anaconda's Jupyter Lab, and not the ArcPro Jupyter Lab in order to successfully import all modules.\n",
    "\n"
   ]
  },
  {
   "cell_type": "code",
   "execution_count": 2,
   "metadata": {},
   "outputs": [
    {
     "name": "stdout",
     "output_type": "stream",
     "text": [
      "Downloading and Extracting files\n",
      "Downloading 1 of 1\n",
      "Downloading and Extracting files\n",
      "Downloading 1 of 7\n",
      "Downloading 2 of 7\n",
      "Downloading 3 of 7\n",
      "Downloading 4 of 7\n",
      "Downloading 5 of 7\n",
      "Downloading 6 of 7\n",
      "Downloading 7 of 7\n",
      "Downloading and Extracting files\n",
      "Downloading 1 of 1\n",
      "Downloading and Extracting files\n",
      "Downloading 1 of 1\n"
     ]
    }
   ],
   "source": [
    "import requests, zipfile, io, csv, os\n",
    "from bs4 import BeautifulSoup\n",
    "from zipfile import BadZipfile\n",
    "\n",
    "\n",
    "# Where you want the files to download to (will create new folders within this workspace) \n",
    "#working_directory = \"C:/Users/and04671/Documents/Data_Files\"\n",
    "theShapeFileDirectory = \"C:/Users/Cole/Documents/SDF\"\n",
    "# The census website. NOTE: this URL will have to be updated to '.../TIGER2019/' and so on, each year\n",
    "theUrl = \"https://www2.census.gov/geo/tiger/TIGER2018/\"\n",
    "\n",
    "# Census download site folder names below\n",
    "#NOTE: if the folder names change on the census download directory for a new year, change the names in this list\n",
    "'''\n",
    "folders = ['AIANNH/','AITSN/','ANRC/','BG/','CONCITY/','COUSUB','CNECTA/','CBSA/','CD/',\n",
    "           'COUNTY/','CSA/','CSA/','METDIV/','NECTA/','NECTADIV/',\n",
    "           'PLACE/','PUMA/','ELSD/','SCSD/','UNSD/','STATE/','SLDL/','SLDU/',\n",
    "           'SUBMCD/','TBG/','TRACT/','TTRACT/','UAC/','ZCTA5/', \n",
    "            \n",
    "           #New for 2018 \n",
    "           'AREAWATER/','LINEARWATER/','COASTLINE/','FACES/',\n",
    "           'FACESAH/','FACESAL/','FACESMIL/','FEATNAMES/','PRIMARYROADS/',\n",
    "           'PRISECROADS/','RAILS/','ROADS/']\n",
    "'''\n",
    "#NOTE: original folder pulls did not have Division, Nation, Trust, Res Only, Region as these could not be found...\n",
    "#on the census site\n",
    "folders = ['AIANNH/','CONCITY/','STATE/','METDIV/']\n",
    "for folder in folders:\n",
    "    fullUrl = theUrl + folder\n",
    "    r = requests.get(fullUrl)\n",
    "    webpage = BeautifulSoup(r.text, \"html.parser\")\n",
    "    table = webpage.find(\"table\")\n",
    "    # Find all table row (tr rows)\n",
    "    tr = table.find_all(\"tr\")\n",
    "    #print(tr)\n",
    "    hrefs = []\n",
    "    # Skipping headers\n",
    "    for each_tr in tr[3:]:\n",
    "        td = each_tr.find_all('td')\n",
    "        # In each tr row find each td cell\n",
    "        for each_td in td:\n",
    "            #print(each_td.text) # If you want to check that you are downloading the correct census shapefiles\n",
    "            if each_td.find('a'): hrefs.append(each_td.find('a')['href'])\n",
    "    print(\"Downloading and Extracting files\")\n",
    "    \n",
    "    \n",
    "    for c, h in enumerate(hrefs):\n",
    "        print(\"Downloading %s of %s\" % (c+1, len(hrefs)) )\n",
    "        urlZip = \"%s/%s\" % (fullUrl, h)\n",
    "        theZip = requests.get(urlZip)\n",
    "        try:\n",
    "            z = zipfile.ZipFile(io.BytesIO(theZip.content))\n",
    "            # Creates a file folder to put each type of data into, inside of theShapefileDirectory specified above\n",
    "            if not os.path.exists(os.path.join(theShapeFileDirectory,folder[:-1])):\n",
    "                os.makedirs(os.path.join(theShapeFileDirectory,folder[:-1]))\n",
    "                destination = (os.path.join(theShapeFileDirectory,folder[:-1]))\n",
    "            # if the file folder with that name already exists, it won't duplicate\n",
    "            else:\n",
    "                destination = (os.path.join(theShapeFileDirectory,folder[:-1]))\n",
    "            z.extractall(destination)\n",
    "        except BadZipfile:\n",
    "            pass\n"
   ]
  }
 ],
 "metadata": {
  "kernelspec": {
   "display_name": "Python 3",
   "language": "python",
   "name": "python3"
  },
  "language_info": {
   "codemirror_mode": {
    "name": "ipython",
    "version": 3
   },
   "file_extension": ".py",
   "mimetype": "text/x-python",
   "name": "python",
   "nbconvert_exporter": "python",
   "pygments_lexer": "ipython3",
   "version": "3.7.3"
  }
 },
 "nbformat": 4,
 "nbformat_minor": 2
}
