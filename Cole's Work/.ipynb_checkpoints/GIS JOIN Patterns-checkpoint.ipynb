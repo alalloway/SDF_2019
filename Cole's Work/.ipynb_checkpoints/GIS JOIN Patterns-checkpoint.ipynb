{
 "cells": [
  {
   "cell_type": "markdown",
   "metadata": {},
   "source": [
    "GISJOIN Patterns:\n",
    "\n",
    "Name of Type|TDG|G|----First---|---Second--|---Third--|Fourth|Fifth---|Sixth|\n",
    "------------|---|---|----------|------:----|----------|------|--------|-----|\n",
    "'AIANHH'    |5  |G|AIANNHCE(4) |\n",
    "'AITSN'     |8  | |            |\n",
    "'ANRC'      |6  |G|ANRCFP(5)   |\n",
    "'BG'        |15 |G|STATEFP(2)  |0          |COUNTYFP(3)|0  |TRACTC(6)  |BLKGRPCE(1)|\n",
    "'CBSA'      |6  |G|CBSAFP(5)   |\n",
    "'CD115'     |6  |G|STATEF(2)   |0          |CD115FP(2) |\n",
    "'CNECTA'    |4  |G|CNECTAFP(3) |\n",
    "'CONCITY'   |9  |G|STATEFP(2)  |0          |CONCTYFP(5)|\n",
    "'COUNTY'    |8  |G|STATEFP(2)  |0          |COUNTYFP(3)|0  |\n",
    "'COUSUB'    |13 |G|STATEFP(2)  |0          |COUNTYFP(3)|0  |COUSUBFP(5)|\n",
    "'CSA'       |4  |G|CSAFP(3)    |\n",
    "NIL-'DIVISION'|2|G|DIVISION(1) |\n",
    "'ELSD'      |9  |G|STATEFP(2)  |0          |ELSDLEA(5) |\n",
    "'METDIV'    |11 |G|CBSAFP(5)   |METDIVFP(5)|\n",
    "NIL-'NATION'|2  |G|0           |\n",
    "'NECTA'     |6  |G|NECTAFP(5)  |\n",
    "'NECTADIV'  |11 |G|NECTAFP(5)  |NCTADVFP(5)|\n",
    "'PLACE'     |9  |G|STATEFP(2)  |0          |PLACEFP(5) |\n",
    "'PUMA'      |9  |G|STATEFP10(2)|0          |PUMACE10(5)|\n",
    "'SCSD'      |9  |G|STATEFP(2)  |0          |SCSDLEA(5) |\n",
    "'SLDL'      |7  |G|STATEFP(2)  |0          |SLDLST(3)  |\n",
    "'SLDU'      |7  |G|STATEFP(2)  |0          |SLDUST(3)  |\n",
    "'STATE'     |4  |G|STATEFP(2)  |0          |\n",
    "'SUBMCD'    |13 |G|STATEFP(2)  |0          |COUNTYFP(3)|0   |SUBMCDFP(5)|\n",
    "'TBG'       |12 |G|AIANNHCE(4) |TTRACTCE(6)|TBLKGPCE(1)|\n",
    "'TRACT'     |14 |G|STATEFP(2)  |0          |COUNTYFP(3)|0   |TRACTCE(6) | \n",
    "'TTRACT'    |11 |G|AIANNHCE(4) |TTRACTCE(6)|\n",
    "'UAC'       |6  |G|UACE10(5)   |\n",
    "'UNSD'      |9  |G|STATEFP(2)  |0          |UNSDLEA(5) |\n",
    "'ZCTA510'   |6  |G|ZCTA5CE10(5)|\n",
    "NIL-'TRUST' |5  |G|AIANNHCE(4) |\n",
    "NIL-'RES_ONLY'|5|G|AIANNHCE(4) |\n",
    "NIL-'REGION'|2  |G|REGION(1)   |\n",
    "    \n",
    "    'AREAWATER/'\n",
    "    'LINEARWATER/'\n",
    "    'COASTLINE/'\n",
    "    'FACES/'\n",
    "    'FACESAH/'\n",
    "    'FACESAL/'\n",
    "    'FACESMIL/'\n",
    "    'FEATNAMES/'\n",
    "    'PRIMARYROADS/'\n",
    "    'PRISECROADS/'\n",
    "    'RAILS/'\n",
    "    'ROADS/'"
   ]
  }
 ],
 "metadata": {
  "kernelspec": {
   "display_name": "Python 3",
   "language": "python",
   "name": "python3"
  },
  "language_info": {
   "codemirror_mode": {
    "name": "ipython",
    "version": 3
   },
   "file_extension": ".py",
   "mimetype": "text/x-python",
   "name": "python",
   "nbconvert_exporter": "python",
   "pygments_lexer": "ipython3",
   "version": "3.7.3"
  }
 },
 "nbformat": 4,
 "nbformat_minor": 2
}
