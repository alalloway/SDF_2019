{
 "cells": [
  {
   "cell_type": "code",
   "execution_count": 12,
   "metadata": {},
   "outputs": [
    {
     "name": "stdout",
     "output_type": "stream",
     "text": [
      "tl_2018_us_aiann\n",
      "C:/Users/and04671/Documents/Data_Files/TIGER2018.gdb/tl_2018_us_aiann\n"
     ]
    },
    {
     "data": {
      "text/plain": [
       "'\\n        arcpy.CopyFeatures_management(shp_file,out_fc)\\n    else:\\n        out_fc = out_db + \"tl_2018_us_\" + folder.lower()\\n        arcpy.Merge_management(shps,out_fc)\\n'"
      ]
     },
     "execution_count": 12,
     "metadata": {},
     "output_type": "execute_result"
    }
   ],
   "source": [
    "import os\n",
    "import sys\n",
    "import zipfile\n",
    "import string\n",
    "import arcpy\n",
    "\n",
    "#constants\n",
    "working_directory = r\"C:/Users/and04671/Documents/Data_Files\"\n",
    "#this dirs list includes all directories defined in the download script, without \n",
    "#additional water/road directories\n",
    "'''folders = ['AIANNH','AITSN','ANRC','BG','CBSA','CD','CNECTA','CONCITY','COUNTY',\n",
    "        'COUSUB','CSA','ELSD','METDIV','NECTA','NECTADIV','PLACE','PUMA',\n",
    "        'SCSD','SLDL','SLDU','STATE','SUBMCD','TBG','TRACT','TTRACT','UAC',\n",
    "        'UNSD','ZCTA5',\n",
    "          \n",
    "        'AREAWATER','LINEARWATER','COASTLINE','FACES',\n",
    "        'FACESAH','FACESAL','FACESMIL','FEATNAMES','PRIMARYROADS',\n",
    "        'PRISECROADS','RAILS','ROADS']'''\n",
    "\n",
    "folders = ['AIANNH', 'CONCITY']\n",
    "\n",
    "#note that the original folder pulls did not have Division, Nation, Trust, Res Only, Region as these could not be found...\n",
    "#on the census site\n",
    "\n",
    "#dirs = ['AIANNH']\n",
    "#dirs = ['COUSB']\n",
    "out_db = r\"C:/Users/and04671/Documents/Data_Files/TIGER2018.gdb\"\n",
    "\n",
    "#0. get the shapefiles into the geodb, merging shapefiles that come as state-wide extents\n",
    "#what's the deal with not being able to put slash other way?\n",
    "for folder in folders:\n",
    "    shp_dir = working_directory + \"/\" + folder\n",
    "    \n",
    "    # list all shapefiles in directory\n",
    "    arcpy.env.workspace = shp_dir\n",
    "    #compile a lit of all shp feature classes as defined by arg\n",
    "    shps = arcpy.ListFeatureClasses(\"*\")\n",
    "    #print(shps)\n",
    "    \n",
    "    #still don't understand this len part\n",
    "    if len(shps) == 1:\n",
    "        shp_file = shp_dir + shps[0]\n",
    "        shp_name = shps[0]\n",
    "        shp_name = shp_name.strip(\".shp\")\n",
    "        print(shp_name)\n",
    "        out_fc = out_db + \"/\" + shp_name\n",
    "        print(out_fc)\n",
    "'''\n",
    "        arcpy.CopyFeatures_management(shp_file,out_fc)\n",
    "    else:\n",
    "        out_fc = out_db + \"tl_2018_us_\" + folder.lower()\n",
    "        arcpy.Merge_management(shps,out_fc)\n",
    "''' \n",
    "dfsdfsdfsdfsdfsddf"
   ]
  }
 ],
 "metadata": {
  "kernelspec": {
   "display_name": "Python 3",
   "language": "python",
   "name": "python3"
  },
  "language_info": {
   "codemirror_mode": {
    "name": "ipython",
    "version": 3
   },
   "file_extension": ".py",
   "mimetype": "text/x-python",
   "name": "python",
   "nbconvert_exporter": "python",
   "pygments_lexer": "ipython3",
   "version": "3.6.6"
  }
 },
 "nbformat": 4,
 "nbformat_minor": 2
}
