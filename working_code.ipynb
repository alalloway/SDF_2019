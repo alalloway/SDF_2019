{
 "cells": [
  {
   "cell_type": "code",
   "execution_count": 1,
   "metadata": {},
   "outputs": [
    {
     "name": "stdout",
     "output_type": "stream",
     "text": [
      "imported\n"
     ]
    }
   ],
   "source": [
    "#IMPORT STATEMENTS\n",
    "\n",
    "import arcpy\n",
    "print('imported')\n"
   ]
  },
  {
   "cell_type": "code",
   "execution_count": 2,
   "metadata": {},
   "outputs": [],
   "source": [
    "#ENVIRONMENTS\n",
    "arcpy.env.workspace = \"C:/Users/allow001/work/\"\n",
    "\n"
   ]
  },
  {
   "cell_type": "code",
   "execution_count": 4,
   "metadata": {},
   "outputs": [
    {
     "name": "stdout",
     "output_type": "stream",
     "text": [
      "converted\n"
     ]
    }
   ],
   "source": [
    "### NOT NECESSARY FOR FEATURE TO LINE TOOL - START FROM SHP - DO NOT RUN\n",
    "\n",
    "#CONVERT SHAPEFILES TO FEATURE CLASSES TO USE ARCPY POLYGON TO LINE TOOL\n",
    "\n",
    "#arcpy.env.workspace = \"C:/Users/allow001/work/scratchdata/us_state_2000_shp\"\n",
    "#arcpy.FeatureClassToFeatureClass_conversion(\"US_state_2000.shp\", \n",
    "                                            \"C:/Users/allow001/work/Working.gdb\", \n",
    "                                            \"US_state_2000\")\n",
    "#print('converted')"
   ]
  },
  {
   "cell_type": "code",
   "execution_count": 10,
   "metadata": {},
   "outputs": [
    {
     "name": "stdout",
     "output_type": "stream",
     "text": [
      "lines!\n"
     ]
    }
   ],
   "source": [
    "#RUN ARCPY FEATURE TO LINE TOOL, OUTPUT LINES AS FEATURE CLASSES\n",
    "\n",
    "arcpy.FeatureToLine_management(\"Working.gdb/US_boundary\", \n",
    "                               \"Working.gdb/USboundary_line\",\n",
    "                               \"0.001 Meters\", \"ATTRIBUTES\")\n",
    "print('lines!')"
   ]
  },
  {
   "cell_type": "code",
   "execution_count": 18,
   "metadata": {},
   "outputs": [
    {
     "name": "stdout",
     "output_type": "stream",
     "text": [
      "dissolved!\n"
     ]
    }
   ],
   "source": [
    "#DISSOLVE LINES BASED ON FID_US_state_2000\n",
    "\n",
    "arcpy.Dissolve_management(\"Working.gdb/US_state_2000_lines\", \"Working.gdb/US_state_2000_lines_dissolved\", \"FID_US_state_2000\",\n",
    "                          \"FID_US_state_2000 FIRST;NHGISST FIRST;ICPSRST FIRST;STATENAM FIRST\",\"MULTI_PART\", \"DISSOLVE_LINES\")\n",
    "print('dissolved!')\n",
    "\n"
   ]
  },
  {
   "cell_type": "code",
   "execution_count": 21,
   "metadata": {
    "collapsed": true
   },
   "outputs": [
    {
     "ename": "ExecuteError",
     "evalue": "Failed to execute. Parameters are not valid.\nERROR 000725: Output Feature Class: Dataset Working.gdb\\ak_water_lines already exists.\nFailed to execute (FeatureToLine).\n",
     "output_type": "error",
     "traceback": [
      "\u001b[1;31m---------------------------------------------------------------------------\u001b[0m",
      "\u001b[1;31mExecuteError\u001b[0m                              Traceback (most recent call last)",
      "\u001b[1;32m<ipython-input-21-568c4ea5a8fe>\u001b[0m in \u001b[0;36m<module>\u001b[1;34m()\u001b[0m\n\u001b[0;32m      1\u001b[0m arcpy.FeatureToLine_management(\"Working.gdb/ak_water_poly\", \n\u001b[0;32m      2\u001b[0m                                \u001b[1;34m\"Working.gdb/ak_water_lines\"\u001b[0m\u001b[1;33m,\u001b[0m\u001b[1;33m\u001b[0m\u001b[0m\n\u001b[1;32m----> 3\u001b[1;33m                                \"0.001 Meters\", \"ATTRIBUTES\")\n\u001b[0m\u001b[0;32m      4\u001b[0m \u001b[0mprint\u001b[0m\u001b[1;33m(\u001b[0m\u001b[1;34m'lines!'\u001b[0m\u001b[1;33m)\u001b[0m\u001b[1;33m\u001b[0m\u001b[0m\n",
      "\u001b[1;32mC:\\Program Files\\ArcGIS\\Pro\\Resources\\ArcPy\\arcpy\\management.py\u001b[0m in \u001b[0;36mFeatureToLine\u001b[1;34m(in_features, out_feature_class, cluster_tolerance, attributes)\u001b[0m\n\u001b[0;32m   2744\u001b[0m         \u001b[1;32mreturn\u001b[0m \u001b[0mretval\u001b[0m\u001b[1;33m\u001b[0m\u001b[0m\n\u001b[0;32m   2745\u001b[0m     \u001b[1;32mexcept\u001b[0m \u001b[0mException\u001b[0m \u001b[1;32mas\u001b[0m \u001b[0me\u001b[0m\u001b[1;33m:\u001b[0m\u001b[1;33m\u001b[0m\u001b[0m\n\u001b[1;32m-> 2746\u001b[1;33m         \u001b[1;32mraise\u001b[0m \u001b[0me\u001b[0m\u001b[1;33m\u001b[0m\u001b[0m\n\u001b[0m\u001b[0;32m   2747\u001b[0m \u001b[1;33m\u001b[0m\u001b[0m\n\u001b[0;32m   2748\u001b[0m \u001b[1;33m@\u001b[0m\u001b[0mgptooldoc\u001b[0m\u001b[1;33m(\u001b[0m\u001b[1;34m'FeatureToPoint_management'\u001b[0m\u001b[1;33m,\u001b[0m \u001b[1;32mNone\u001b[0m\u001b[1;33m)\u001b[0m\u001b[1;33m\u001b[0m\u001b[0m\n",
      "\u001b[1;32mC:\\Program Files\\ArcGIS\\Pro\\Resources\\ArcPy\\arcpy\\management.py\u001b[0m in \u001b[0;36mFeatureToLine\u001b[1;34m(in_features, out_feature_class, cluster_tolerance, attributes)\u001b[0m\n\u001b[0;32m   2741\u001b[0m     \u001b[1;32mfrom\u001b[0m \u001b[0marcpy\u001b[0m\u001b[1;33m.\u001b[0m\u001b[0marcobjects\u001b[0m\u001b[1;33m.\u001b[0m\u001b[0marcobjectconversion\u001b[0m \u001b[1;32mimport\u001b[0m \u001b[0mconvertArcObjectToPythonObject\u001b[0m\u001b[1;33m\u001b[0m\u001b[0m\n\u001b[0;32m   2742\u001b[0m     \u001b[1;32mtry\u001b[0m\u001b[1;33m:\u001b[0m\u001b[1;33m\u001b[0m\u001b[0m\n\u001b[1;32m-> 2743\u001b[1;33m         \u001b[0mretval\u001b[0m \u001b[1;33m=\u001b[0m \u001b[0mconvertArcObjectToPythonObject\u001b[0m\u001b[1;33m(\u001b[0m\u001b[0mgp\u001b[0m\u001b[1;33m.\u001b[0m\u001b[0mFeatureToLine_management\u001b[0m\u001b[1;33m(\u001b[0m\u001b[1;33m*\u001b[0m\u001b[0mgp_fixargs\u001b[0m\u001b[1;33m(\u001b[0m\u001b[1;33m(\u001b[0m\u001b[0min_features\u001b[0m\u001b[1;33m,\u001b[0m \u001b[0mout_feature_class\u001b[0m\u001b[1;33m,\u001b[0m \u001b[0mcluster_tolerance\u001b[0m\u001b[1;33m,\u001b[0m \u001b[0mattributes\u001b[0m\u001b[1;33m)\u001b[0m\u001b[1;33m,\u001b[0m \u001b[1;32mTrue\u001b[0m\u001b[1;33m)\u001b[0m\u001b[1;33m)\u001b[0m\u001b[1;33m)\u001b[0m\u001b[1;33m\u001b[0m\u001b[0m\n\u001b[0m\u001b[0;32m   2744\u001b[0m         \u001b[1;32mreturn\u001b[0m \u001b[0mretval\u001b[0m\u001b[1;33m\u001b[0m\u001b[0m\n\u001b[0;32m   2745\u001b[0m     \u001b[1;32mexcept\u001b[0m \u001b[0mException\u001b[0m \u001b[1;32mas\u001b[0m \u001b[0me\u001b[0m\u001b[1;33m:\u001b[0m\u001b[1;33m\u001b[0m\u001b[0m\n",
      "\u001b[1;32mC:\\Program Files\\ArcGIS\\Pro\\Resources\\ArcPy\\arcpy\\geoprocessing\\_base.py\u001b[0m in \u001b[0;36m<lambda>\u001b[1;34m(*args)\u001b[0m\n\u001b[0;32m    496\u001b[0m         \u001b[0mval\u001b[0m \u001b[1;33m=\u001b[0m \u001b[0mgetattr\u001b[0m\u001b[1;33m(\u001b[0m\u001b[0mself\u001b[0m\u001b[1;33m.\u001b[0m\u001b[0m_gp\u001b[0m\u001b[1;33m,\u001b[0m \u001b[0mattr\u001b[0m\u001b[1;33m)\u001b[0m\u001b[1;33m\u001b[0m\u001b[0m\n\u001b[0;32m    497\u001b[0m         \u001b[1;32mif\u001b[0m \u001b[0mcallable\u001b[0m\u001b[1;33m(\u001b[0m\u001b[0mval\u001b[0m\u001b[1;33m)\u001b[0m\u001b[1;33m:\u001b[0m\u001b[1;33m\u001b[0m\u001b[0m\n\u001b[1;32m--> 498\u001b[1;33m             \u001b[1;32mreturn\u001b[0m \u001b[1;32mlambda\u001b[0m \u001b[1;33m*\u001b[0m\u001b[0margs\u001b[0m\u001b[1;33m:\u001b[0m \u001b[0mval\u001b[0m\u001b[1;33m(\u001b[0m\u001b[1;33m*\u001b[0m\u001b[0mgp_fixargs\u001b[0m\u001b[1;33m(\u001b[0m\u001b[0margs\u001b[0m\u001b[1;33m,\u001b[0m \u001b[1;32mTrue\u001b[0m\u001b[1;33m)\u001b[0m\u001b[1;33m)\u001b[0m\u001b[1;33m\u001b[0m\u001b[0m\n\u001b[0m\u001b[0;32m    499\u001b[0m         \u001b[1;32melse\u001b[0m\u001b[1;33m:\u001b[0m\u001b[1;33m\u001b[0m\u001b[0m\n\u001b[0;32m    500\u001b[0m             \u001b[1;32mreturn\u001b[0m \u001b[0mconvertArcObjectToPythonObject\u001b[0m\u001b[1;33m(\u001b[0m\u001b[0mval\u001b[0m\u001b[1;33m)\u001b[0m\u001b[1;33m\u001b[0m\u001b[0m\n",
      "\u001b[1;31mExecuteError\u001b[0m: Failed to execute. Parameters are not valid.\nERROR 000725: Output Feature Class: Dataset Working.gdb\\ak_water_lines already exists.\nFailed to execute (FeatureToLine).\n"
     ]
    }
   ],
   "source": [
    "#WATER - WORKING -\n",
    "\n",
    "arcpy.FeatureToLine_management(\"Working.gdb/ak_water_poly\", \n",
    "                               \"Working.gdb/ak_water_lines\",\n",
    "                               \"0.001 Meters\", \"ATTRIBUTES\")\n",
    "print('lines!')\n"
   ]
  },
  {
   "cell_type": "markdown",
   "metadata": {},
   "source": [
    "## UNZIPPING FILES"
   ]
  },
  {
   "cell_type": "code",
   "execution_count": 2,
   "metadata": {
    "scrolled": true
   },
   "outputs": [
    {
     "name": "stdout",
     "output_type": "stream",
     "text": [
      "import successful\n",
      "C:\\Users\\allow001\\work\\primarydata\\us_county_2000.zip\n",
      "C:\\Users\\allow001\\work\\primarydata\n",
      "us_county_2000.zip\n",
      "C:\\Users\\allow001\\work\\primarydata\\state\\us_state_1790.zip\n",
      "C:\\Users\\allow001\\work\\primarydata\\state\n",
      "us_state_1790.zip\n",
      "C:\\Users\\allow001\\work\\primarydata\\state\\us_state_1800.zip\n",
      "C:\\Users\\allow001\\work\\primarydata\\state\n",
      "us_state_1800.zip\n",
      "C:\\Users\\allow001\\work\\primarydata\\state\\us_state_1810.zip\n",
      "C:\\Users\\allow001\\work\\primarydata\\state\n",
      "us_state_1810.zip\n",
      "C:\\Users\\allow001\\work\\primarydata\\state\\us_state_1820.zip\n",
      "C:\\Users\\allow001\\work\\primarydata\\state\n",
      "us_state_1820.zip\n",
      "C:\\Users\\allow001\\work\\primarydata\\state\\us_state_1830.zip\n",
      "C:\\Users\\allow001\\work\\primarydata\\state\n",
      "us_state_1830.zip\n",
      "C:\\Users\\allow001\\work\\primarydata\\state\\us_state_1840.zip\n",
      "C:\\Users\\allow001\\work\\primarydata\\state\n",
      "us_state_1840.zip\n",
      "C:\\Users\\allow001\\work\\primarydata\\state\\us_state_1850.zip\n",
      "C:\\Users\\allow001\\work\\primarydata\\state\n",
      "us_state_1850.zip\n",
      "C:\\Users\\allow001\\work\\primarydata\\state\\us_state_1860.zip\n",
      "C:\\Users\\allow001\\work\\primarydata\\state\n",
      "us_state_1860.zip\n",
      "C:\\Users\\allow001\\work\\primarydata\\state\\us_state_1870.zip\n",
      "C:\\Users\\allow001\\work\\primarydata\\state\n",
      "us_state_1870.zip\n",
      "C:\\Users\\allow001\\work\\primarydata\\state\\us_state_1880.zip\n",
      "C:\\Users\\allow001\\work\\primarydata\\state\n",
      "us_state_1880.zip\n",
      "C:\\Users\\allow001\\work\\primarydata\\state\\us_state_1890.zip\n",
      "C:\\Users\\allow001\\work\\primarydata\\state\n",
      "us_state_1890.zip\n",
      "C:\\Users\\allow001\\work\\primarydata\\state\\us_state_1900.zip\n",
      "C:\\Users\\allow001\\work\\primarydata\\state\n",
      "us_state_1900.zip\n",
      "C:\\Users\\allow001\\work\\primarydata\\state\\us_state_1910.zip\n",
      "C:\\Users\\allow001\\work\\primarydata\\state\n",
      "us_state_1910.zip\n",
      "C:\\Users\\allow001\\work\\primarydata\\state\\us_state_1920.zip\n",
      "C:\\Users\\allow001\\work\\primarydata\\state\n",
      "us_state_1920.zip\n",
      "C:\\Users\\allow001\\work\\primarydata\\state\\us_state_1930.zip\n",
      "C:\\Users\\allow001\\work\\primarydata\\state\n",
      "us_state_1930.zip\n",
      "C:\\Users\\allow001\\work\\primarydata\\state\\us_state_1940.zip\n",
      "C:\\Users\\allow001\\work\\primarydata\\state\n",
      "us_state_1940.zip\n",
      "C:\\Users\\allow001\\work\\primarydata\\state\\us_state_1950.zip\n",
      "C:\\Users\\allow001\\work\\primarydata\\state\n",
      "us_state_1950.zip\n",
      "C:\\Users\\allow001\\work\\primarydata\\state\\us_state_1960.zip\n",
      "C:\\Users\\allow001\\work\\primarydata\\state\n",
      "us_state_1960.zip\n",
      "C:\\Users\\allow001\\work\\primarydata\\state\\us_state_1970.zip\n",
      "C:\\Users\\allow001\\work\\primarydata\\state\n",
      "us_state_1970.zip\n",
      "C:\\Users\\allow001\\work\\primarydata\\state\\us_state_1980.zip\n",
      "C:\\Users\\allow001\\work\\primarydata\\state\n",
      "us_state_1980.zip\n",
      "C:\\Users\\allow001\\work\\primarydata\\state\\us_state_1990.zip\n",
      "C:\\Users\\allow001\\work\\primarydata\\state\n",
      "us_state_1990.zip\n",
      "C:\\Users\\allow001\\work\\primarydata\\state\\us_state_2000.zip\n",
      "C:\\Users\\allow001\\work\\primarydata\\state\n",
      "us_state_2000.zip\n",
      "C:\\Users\\allow001\\work\\primarydata\\state\\us_state_all.zip\n",
      "C:\\Users\\allow001\\work\\primarydata\\state\n",
      "us_state_all.zip\n"
     ]
    }
   ],
   "source": [
    "import zipfile,fnmatch,os  \n",
    "\n",
    "print('import successful')\n",
    "\n",
    "# EXTRACT ALL ZIP FILES IN DIRECTORY TREE TO ONE SPECIFIC FOLDER   \n",
    "\n",
    "rootPath = r\"C:\\Users\\allow001\\work\\primarydata\"  \n",
    "pattern = '*.zip'  \n",
    "for root, dirs, files in os.walk(rootPath):  \n",
    "    for filename in fnmatch.filter(files, pattern):  \n",
    "        print(os.path.join(root, filename))  \n",
    "        outpath = r\"C:\\Users\\allow001\\work\\scratchdata\"    \n",
    "        print (root)  \n",
    "        print (filename)  \n",
    "        zipfile.ZipFile(os.path.join(root, filename)).extractall(r\"C:\\Users\\allow001\\work\\scratchdata\")  "
   ]
  },
  {
   "cell_type": "markdown",
   "metadata": {},
   "source": [
    "## DISSOLVE ROUND 2: US STATES EDITION"
   ]
  },
  {
   "cell_type": "code",
   "execution_count": 8,
   "metadata": {},
   "outputs": [
    {
     "name": "stdout",
     "output_type": "stream",
     "text": [
      "dissolved! again!\n"
     ]
    }
   ],
   "source": [
    "#DISSOLVE LINES \n",
    "\n",
    "arcpy.Dissolve_management(\"Working.gdb/US_state_2000_lines\", \"Working.gdb/US_state_2000_lines_exterior\",\"US\",\n",
    "                          \"\",\"SINGLE_PART\", \"DISSOLVE_LINES\")\n",
    "print('dissolved! again!')\n"
   ]
  },
  {
   "cell_type": "markdown",
   "metadata": {},
   "source": [
    "## Coverage >>> SHP"
   ]
  },
  {
   "cell_type": "code",
   "execution_count": 23,
   "metadata": {},
   "outputs": [
    {
     "data": {
      "text/plain": [
       "<Result 'C:\\\\Users\\\\allow001\\\\work\\\\scratchdata\\\\ak'>"
      ]
     },
     "execution_count": 23,
     "metadata": {},
     "output_type": "execute_result"
    }
   ],
   "source": [
    "arcpy.FeatureClassToShapefile_conversion(Input_Features=\"G:/data_projects/sdf_2019/link_new/ak/state/akwater/region.water\", Output_Folder=\"C:/Users/allow001/work/scratchdata/ak\")"
   ]
  },
  {
   "cell_type": "code",
   "execution_count": 28,
   "metadata": {},
   "outputs": [
    {
     "data": {
      "text/plain": [
       "<Result 'C:\\\\Users\\\\allow001\\\\work\\\\scratchdata\\\\al'>"
      ]
     },
     "execution_count": 28,
     "metadata": {},
     "output_type": "execute_result"
    }
   ],
   "source": [
    "Input_Features = [\"G:/data_projects/sdf_2019/link_new/al/state/alwater/polygon\",\"G:/data_projects/sdf_2019/link_new/al/alh/arc\",\"G:/data_projects/sdf_2019/link_new/al/als/arc\"]\n",
    "\n",
    "Output_Folder = \"C:/Users/allow001/work/scratchdata/al\"\n",
    "\n",
    "arcpy.FeatureClassToShapefile_conversion(Input_Features, Output_Folder)"
   ]
  },
  {
   "cell_type": "code",
   "execution_count": null,
   "metadata": {},
   "outputs": [],
   "source": []
  },
  {
   "cell_type": "code",
   "execution_count": 36,
   "metadata": {
    "collapsed": true
   },
   "outputs": [
    {
     "name": "stdout",
     "output_type": "stream",
     "text": [
      "ak\n",
      "al\n",
      "ar\n",
      "as\n",
      "az\n",
      "ca\n",
      "co\n",
      "ct\n",
      "dc\n",
      "de\n",
      "fl\n",
      "ga\n",
      "gu\n",
      "hi\n",
      "ia\n",
      "id\n",
      "il\n",
      "in\n",
      "ks\n",
      "ky\n",
      "la\n",
      "ma\n",
      "md\n",
      "me\n",
      "mi\n",
      "mn\n",
      "mo\n",
      "mp\n",
      "ms\n",
      "mt\n",
      "nc\n",
      "nd\n",
      "ne\n",
      "nh\n",
      "nj\n",
      "nm\n",
      "nv\n",
      "ny\n",
      "oh\n",
      "ok\n",
      "or\n",
      "pa\n",
      "pr\n",
      "pw\n",
      "ri\n",
      "sc\n",
      "sd\n",
      "tn\n",
      "tx\n",
      "um\n",
      "ut\n",
      "va\n",
      "vi\n",
      "vt\n",
      "wa\n",
      "wi\n",
      "wv\n",
      "wy\n",
      "['ak', 'al', 'ar', 'as', 'az', 'ca', 'co', 'ct', 'dc', 'de', 'fl', 'ga', 'gu', 'hi', 'ia', 'id', 'il', 'in', 'ks', 'ky', 'la', 'ma', 'md', 'me', 'mi', 'mn', 'mo', 'mp', 'ms', 'mt', 'nc', 'nd', 'ne', 'nh', 'nj', 'nm', 'nv', 'ny', 'oh', 'ok', 'or', 'pa', 'pr', 'pw', 'ri', 'sc', 'sd', 'tn', 'tx', 'um', 'ut', 'va', 'vi', 'vt', 'wa', 'wi', 'wv', 'wy']\n"
     ]
    }
   ],
   "source": []
  },
  {
   "cell_type": "code",
   "execution_count": null,
   "metadata": {
    "scrolled": false
   },
   "outputs": [],
   "source": []
  },
  {
   "cell_type": "markdown",
   "metadata": {},
   "source": [
    "## WORKING SCRIPT: COPY FILES TO NEW DIRECTORY & CONVERT COVERAGE TO SHAPEFILE"
   ]
  },
  {
   "cell_type": "code",
   "execution_count": 84,
   "metadata": {
    "scrolled": true
   },
   "outputs": [
    {
     "name": "stdout",
     "output_type": "stream",
     "text": [
      "aks\n",
      "completed: G:\\data_projects\\sdf_2019\\link_new\\ak\\aks\n",
      "als\n",
      "completed: G:\\data_projects\\sdf_2019\\link_new\\al\\als\n",
      "ars\n",
      "completed: G:\\data_projects\\sdf_2019\\link_new\\ar\\ars\n",
      "azs\n",
      "completed: G:\\data_projects\\sdf_2019\\link_new\\az\\azs\n",
      "cas\n",
      "completed: G:\\data_projects\\sdf_2019\\link_new\\ca\\cas\n",
      "cos\n",
      "completed: G:\\data_projects\\sdf_2019\\link_new\\co\\cos\n",
      "cts\n",
      "completed: G:\\data_projects\\sdf_2019\\link_new\\ct\\cts\n",
      "dcs\n",
      "completed: G:\\data_projects\\sdf_2019\\link_new\\dc\\dcs\n",
      "des\n",
      "completed: G:\\data_projects\\sdf_2019\\link_new\\de\\des\n",
      "fls\n",
      "completed: G:\\data_projects\\sdf_2019\\link_new\\fl\\fls\n",
      "gas\n",
      "completed: G:\\data_projects\\sdf_2019\\link_new\\ga\\gas\n",
      "his\n",
      "completed: G:\\data_projects\\sdf_2019\\link_new\\hi\\his\n",
      "ias\n",
      "completed: G:\\data_projects\\sdf_2019\\link_new\\ia\\ias\n",
      "ids\n",
      "completed: G:\\data_projects\\sdf_2019\\link_new\\id\\ids\n",
      "ils\n",
      "completed: G:\\data_projects\\sdf_2019\\link_new\\il\\ils\n",
      "ins\n",
      "completed: G:\\data_projects\\sdf_2019\\link_new\\in\\ins\n",
      "kss\n",
      "completed: G:\\data_projects\\sdf_2019\\link_new\\ks\\kss\n",
      "kys\n",
      "completed: G:\\data_projects\\sdf_2019\\link_new\\ky\\kys\n",
      "las\n",
      "completed: G:\\data_projects\\sdf_2019\\link_new\\la\\las\n",
      "mas\n",
      "completed: G:\\data_projects\\sdf_2019\\link_new\\ma\\mas\n",
      "mds\n",
      "completed: G:\\data_projects\\sdf_2019\\link_new\\md\\mds\n",
      "mes\n",
      "completed: G:\\data_projects\\sdf_2019\\link_new\\me\\mes\n",
      "mis\n",
      "completed: G:\\data_projects\\sdf_2019\\link_new\\mi\\mis\n",
      "mos\n",
      "completed: G:\\data_projects\\sdf_2019\\link_new\\mo\\mos\n",
      "mss\n",
      "completed: G:\\data_projects\\sdf_2019\\link_new\\ms\\mss\n",
      "mts\n",
      "completed: G:\\data_projects\\sdf_2019\\link_new\\mt\\mts\n",
      "ncs\n",
      "completed: G:\\data_projects\\sdf_2019\\link_new\\nc\\ncs\n",
      "nes\n",
      "completed: G:\\data_projects\\sdf_2019\\link_new\\ne\\nes\n",
      "njs\n",
      "completed: G:\\data_projects\\sdf_2019\\link_new\\nj\\njs\n",
      "nms\n",
      "completed: G:\\data_projects\\sdf_2019\\link_new\\nm\\nms\n",
      "nvs\n",
      "completed: G:\\data_projects\\sdf_2019\\link_new\\nv\\nvs\n",
      "nys\n",
      "completed: G:\\data_projects\\sdf_2019\\link_new\\ny\\nys\n",
      "ohs\n",
      "completed: G:\\data_projects\\sdf_2019\\link_new\\oh\\ohs\n",
      "oks\n",
      "completed: G:\\data_projects\\sdf_2019\\link_new\\ok\\oks\n",
      "ors\n",
      "completed: G:\\data_projects\\sdf_2019\\link_new\\or\\ors\n",
      "pas\n",
      "completed: G:\\data_projects\\sdf_2019\\link_new\\pa\\pas\n",
      "ris\n",
      "completed: G:\\data_projects\\sdf_2019\\link_new\\ri\\ris\n",
      "scs\n",
      "completed: G:\\data_projects\\sdf_2019\\link_new\\sc\\scs\n",
      "tns\n",
      "completed: G:\\data_projects\\sdf_2019\\link_new\\tn\\tns\n",
      "txs\n",
      "completed: G:\\data_projects\\sdf_2019\\link_new\\tx\\txs\n",
      "uts\n",
      "completed: G:\\data_projects\\sdf_2019\\link_new\\ut\\uts\n",
      "vas\n",
      "completed: G:\\data_projects\\sdf_2019\\link_new\\va\\vas\n",
      "vts\n",
      "completed: G:\\data_projects\\sdf_2019\\link_new\\vt\\vts\n",
      "was\n",
      "completed: G:\\data_projects\\sdf_2019\\link_new\\wa\\was\n",
      "wis\n",
      "completed: G:\\data_projects\\sdf_2019\\link_new\\wi\\wis\n",
      "wvs\n",
      "completed: G:\\data_projects\\sdf_2019\\link_new\\wv\\wvs\n",
      "wys\n",
      "completed: G:\\data_projects\\sdf_2019\\link_new\\wy\\wys\n"
     ]
    }
   ],
   "source": [
    "from glob import glob\n",
    "import shutil\n",
    "import os\n",
    "\n",
    "# copy subdirectory example\n",
    "s = r\"G:\\data_projects\\sdf_2019\\link_new\"\n",
    "d = r\"C:\\Users\\allow001\\work\\scratchdata\\st\"\n",
    "\n",
    "for folder in glob(os.path.join(s, \"??\", \"??s\")):\n",
    "    print(folder[38:41])\n",
    "    if not os.path.exists(os.path.join(d,(folder[38:41]))):\n",
    "        n = (os.path.join(d,(folder[38:41])))\n",
    "        f = (os.makedirs(n))\n",
    "        x = f\n",
    "        \n",
    "    else:\n",
    "        x = (os.path.join(d,(folder[38:41])))\n",
    "   \n",
    "    dest = x\n",
    "    arcpy.env.workspace = folder\n",
    "    arcpy.FeatureClassToShapefile_conversion(\"arc\",dest)\n",
    "    print('completed:',folder)\n",
    "    \n",
    "    \n",
    "#arcpy.env.workspace = \"C:/data\"\n",
    "#arcpy.CopyFeatures_management(\"climate.shp\", \"C:/output/output.gdb/climate\")"
   ]
  },
  {
   "cell_type": "code",
   "execution_count": 26,
   "metadata": {},
   "outputs": [],
   "source": [
    "from glob import glob\n",
    "import os\n",
    "import arcpy\n",
    "\n",
    "# copy subdirectory example\n",
    "src = \"C:\\\\Users\\\\allow001\\\\work\\\\scratchdata\\\\st\"\n",
    "\n",
    "for folder in glob(os.path.join(src, \"???\")):\n",
    "    #print(folder)\n",
    "    for file in glob(os.path.join(folder,\"???_arc.shp\")):\n",
    "        #print(file)\n",
    "        # input data is in GCS, not projected\n",
    "        input_features = file\n",
    "        # output data\n",
    "        output_feature_class = (file[:-8]+'_proj.shp')\n",
    "        #print(output_feature_class)\n",
    "        out_coordinate_system = arcpy.SpatialReference('USA Contiguous Albers Equal Area Conic')\n",
    "        # run the tool\n",
    "        arcpy.Project_management(input_features, output_feature_class, out_coordinate_system)\n",
    "\n",
    "\n",
    "# create a spatial reference object for the output coordinate system\n",
    "#out_coordinate_system = arcpy.SpatialReference('USA Contiguous Albers Equal Area Conic')\n",
    "\n",
    "# run the tool\n",
    "#arcpy.Project_management(input_features, output_feature_class, out_coordinate_system)"
   ]
  },
  {
   "cell_type": "code",
   "execution_count": 16,
   "metadata": {
    "collapsed": true
   },
   "outputs": [
    {
     "name": "stdout",
     "output_type": "stream",
     "text": [
      "Projected Coordinate Systems/Continental/Africa/Africa Albers Equal Area Conic\n",
      "Projected Coordinate Systems/Continental/Asia/Asia North Albers Equal Area Conic\n",
      "Projected Coordinate Systems/Continental/Asia/Asia South Albers Equal Area Conic\n",
      "Projected Coordinate Systems/Continental/Europe/Europe Albers Equal Area Conic\n",
      "Projected Coordinate Systems/Continental/North America/Alaska Albers Equal Area Conic\n",
      "Projected Coordinate Systems/Continental/North America/Canada Albers Equal Area Conic\n",
      "Projected Coordinate Systems/Continental/North America/Hawaii Albers Equal Area Conic\n",
      "Projected Coordinate Systems/Continental/North America/NAD 1927 Contiguous USA Albers\n",
      "Projected Coordinate Systems/Continental/North America/NAD 1983 (2011) Contiguous USA Albers\n",
      "Projected Coordinate Systems/Continental/North America/NAD 1983 Contiguous USA Albers\n",
      "Projected Coordinate Systems/Continental/North America/NAD 1983 Great Lakes Basin Albers\n",
      "Projected Coordinate Systems/Continental/North America/NAD 1983 Great Lakes and St. Lawrence Albers\n",
      "Projected Coordinate Systems/Continental/North America/NAD 1983 HARN Contiguous USA Albers\n",
      "Projected Coordinate Systems/Continental/North America/NAD 1983 NSRS2007 Contiguous USA Albers\n",
      "Projected Coordinate Systems/Continental/North America/North America Albers Equal Area Conic\n",
      "Projected Coordinate Systems/Continental/North America/Panhandle Energy Albers\n",
      "Projected Coordinate Systems/Continental/North America/USA Contiguous Albers Equal Area Conic\n",
      "Projected Coordinate Systems/Continental/North America/USA Contiguous Albers Equal Area Conic USGS\n",
      "Projected Coordinate Systems/Continental/South America/South America Albers Equal Area Conic\n",
      "Projected Coordinate Systems/National Grids/Australia/GDA 1994 Australia Albers\n",
      "Projected Coordinate Systems/National Grids/Canada/NAD 1983 BC Environment Albers\n",
      "Projected Coordinate Systems/National Grids/Canada/NAD 1983 CSRS BC Environment Albers\n",
      "Projected Coordinate Systems/National Grids/Canada/NAD 1983 CSRS Quebec Albers\n",
      "Projected Coordinate Systems/National Grids/Canada/NAD 1983 CSRS Yukon Albers\n",
      "Projected Coordinate Systems/National Grids/Canada/NAD 1983 Quebec Albers\n",
      "Projected Coordinate Systems/National Grids/Canada/NAD 1983 Yukon Albers\n",
      "Projected Coordinate Systems/State Systems/NAD 1927 Alaska Albers (Meters)\n",
      "Projected Coordinate Systems/State Systems/NAD 1927 Alaska Albers (US Feet)\n",
      "Projected Coordinate Systems/State Systems/NAD 1927 California (Teale) Albers (Meters)\n",
      "Projected Coordinate Systems/State Systems/NAD 1927 Georgia Statewide Albers (US Feet)\n",
      "Projected Coordinate Systems/State Systems/NAD 1983 (2011) Alaska Albers (Meters)\n",
      "Projected Coordinate Systems/State Systems/NAD 1983 (2011) California (Teale) Albers (Meters)\n",
      "Projected Coordinate Systems/State Systems/NAD 1983 (2011) Florida GDL Albers (Meters)\n",
      "Projected Coordinate Systems/State Systems/NAD 1983 (CORS96) Alaska Albers (Meters)\n",
      "Projected Coordinate Systems/State Systems/NAD 1983 Albers BLM Montana, North Dakota, South Dakota\n",
      "Projected Coordinate Systems/State Systems/NAD 1983 California (Teale) Albers (Meters)\n",
      "Projected Coordinate Systems/State Systems/NAD 1983 California (Teale) Albers (US Feet)\n",
      "Projected Coordinate Systems/State Systems/NAD 1983 Florida GDL Albers (Meters)\n",
      "Projected Coordinate Systems/State Systems/NAD 1983 HARN California (Teale) Albers (Meters)\n",
      "Projected Coordinate Systems/State Systems/NAD 1983 HARN Florida GDL Albers (Meters)\n",
      "Projected Coordinate Systems/State Systems/NAD 1983 NSRS2007 Alaska Albers (Meters)\n",
      "Projected Coordinate Systems/State Systems/NAD 1983 NSRS2007 California (Teale) Albers (Meters)\n",
      "Projected Coordinate Systems/State Systems/NAD 1983 NSRS2007 Florida GDL Albers (Meters)\n",
      "Projected Coordinate Systems/State Systems/NAD 1983 USFS R6 Albers (Meters)\n",
      "Projected Coordinate Systems/State Systems/NAD 1983 USFS R9 Albers (Meters)\n",
      "Projected Coordinate Systems/State Systems/WGS 1984 California (Teale) Albers (US Feet)\n",
      "Projected Coordinate Systems/State Systems/Texas/NAD 1983 (2011) Texas Centric Mapping System Albers (Meters)\n",
      "Projected Coordinate Systems/State Systems/Texas/NAD 1983 HARN Texas Centric Mapping System Albers (Meters)\n",
      "Projected Coordinate Systems/State Systems/Texas/NAD 1983 NSRS2007 Texas Centric Mapping System Albers (Meters)\n",
      "Projected Coordinate Systems/State Systems/Texas/NAD 1983 Texas Centric Mapping System Albers (Meters)\n"
     ]
    }
   ],
   "source": [
    "import arcpy \n",
    "\n",
    "srs = arcpy.ListSpatialReferences(\"*Albers*\")\n",
    "for sr_name in srs:\n",
    "    print(sr_name)"
   ]
  },
  {
   "cell_type": "markdown",
   "metadata": {},
   "source": [
    "## need to do - rename projected shps to final names"
   ]
  },
  {
   "cell_type": "code",
   "execution_count": null,
   "metadata": {},
   "outputs": [],
   "source": [
    "# Name: Rename_SHP.py\n",
    "# Description: Rename 200 street/rr lines and hydro lines shapefiles to finalize \n",
    "\n",
    "# Import system modules\n",
    "import arcpy\n",
    "from arcpy import env\n",
    "\n",
    "# Set workspace\n",
    "env.workspace = \"C:/workspace/test.gdb\"\n",
    "\n",
    "# Set local variables\n",
    "in_data =  \"test\"\n",
    "out_data = \"testFC\"\n",
    "data_type = \"FeatureClass\"\n",
    "\n",
    "# Execute Rename\n",
    "arcpy.Rename_management(in_data, out_data, data_type)"
   ]
  },
  {
   "cell_type": "code",
   "execution_count": 53,
   "metadata": {},
   "outputs": [
    {
     "name": "stdout",
     "output_type": "stream",
     "text": [
      "ak\n",
      "completed:  ak_water.shp\n"
     ]
    },
    {
     "ename": "ExecuteError",
     "evalue": "ERROR 000258: Output C:/Users/allow001/work/scratchdata/hydro_shp\\ak_water.shp already exists\nFailed to execute (FeatureClassToFeatureClass).\n",
     "output_type": "error",
     "traceback": [
      "\u001b[1;31m---------------------------------------------------------------------------\u001b[0m",
      "\u001b[1;31mExecuteError\u001b[0m                              Traceback (most recent call last)",
      "\u001b[1;32m<ipython-input-53-17201995d14b>\u001b[0m in \u001b[0;36m<module>\u001b[1;34m()\u001b[0m\n\u001b[0;32m     14\u001b[0m     \u001b[1;32mfor\u001b[0m \u001b[0mfile\u001b[0m \u001b[1;32min\u001b[0m \u001b[0mfolder\u001b[0m\u001b[1;33m:\u001b[0m\u001b[1;33m\u001b[0m\u001b[0m\n\u001b[0;32m     15\u001b[0m         \u001b[0marcpy\u001b[0m\u001b[1;33m.\u001b[0m\u001b[0menv\u001b[0m\u001b[1;33m.\u001b[0m\u001b[0moutputCoordinateSystem\u001b[0m \u001b[1;33m=\u001b[0m \u001b[0marcpy\u001b[0m\u001b[1;33m.\u001b[0m\u001b[0mSpatialReference\u001b[0m\u001b[1;33m(\u001b[0m\u001b[1;34m'USA Contiguous Albers Equal Area Conic'\u001b[0m\u001b[1;33m)\u001b[0m\u001b[1;33m\u001b[0m\u001b[0m\n\u001b[1;32m---> 16\u001b[1;33m         \u001b[0marcpy\u001b[0m\u001b[1;33m.\u001b[0m\u001b[0mFeatureClassToFeatureClass_conversion\u001b[0m\u001b[1;33m(\u001b[0m\u001b[0minFeatures\u001b[0m\u001b[1;33m,\u001b[0m\u001b[0mdest\u001b[0m\u001b[1;33m,\u001b[0m\u001b[0moutFeatureClass\u001b[0m\u001b[1;33m)\u001b[0m\u001b[1;33m\u001b[0m\u001b[0m\n\u001b[0m\u001b[0;32m     17\u001b[0m         \u001b[0mprint\u001b[0m \u001b[1;33m(\u001b[0m\u001b[1;34m\"completed: \"\u001b[0m\u001b[1;33m,\u001b[0m\u001b[0moutFeatureClass\u001b[0m\u001b[1;33m)\u001b[0m\u001b[1;33m\u001b[0m\u001b[0m\n\u001b[0;32m     18\u001b[0m \u001b[1;33m\u001b[0m\u001b[0m\n",
      "\u001b[1;32mC:\\Program Files\\ArcGIS\\Pro\\Resources\\ArcPy\\arcpy\\conversion.py\u001b[0m in \u001b[0;36mFeatureClassToFeatureClass\u001b[1;34m(in_features, out_path, out_name, where_clause, field_mapping, config_keyword)\u001b[0m\n\u001b[0;32m   1769\u001b[0m         \u001b[1;32mreturn\u001b[0m \u001b[0mretval\u001b[0m\u001b[1;33m\u001b[0m\u001b[0m\n\u001b[0;32m   1770\u001b[0m     \u001b[1;32mexcept\u001b[0m \u001b[0mException\u001b[0m \u001b[1;32mas\u001b[0m \u001b[0me\u001b[0m\u001b[1;33m:\u001b[0m\u001b[1;33m\u001b[0m\u001b[0m\n\u001b[1;32m-> 1771\u001b[1;33m         \u001b[1;32mraise\u001b[0m \u001b[0me\u001b[0m\u001b[1;33m\u001b[0m\u001b[0m\n\u001b[0m\u001b[0;32m   1772\u001b[0m \u001b[1;33m\u001b[0m\u001b[0m\n\u001b[0;32m   1773\u001b[0m \u001b[1;33m@\u001b[0m\u001b[0mgptooldoc\u001b[0m\u001b[1;33m(\u001b[0m\u001b[1;34m'FeatureClassToGeodatabase_conversion'\u001b[0m\u001b[1;33m,\u001b[0m \u001b[1;32mNone\u001b[0m\u001b[1;33m)\u001b[0m\u001b[1;33m\u001b[0m\u001b[0m\n",
      "\u001b[1;32mC:\\Program Files\\ArcGIS\\Pro\\Resources\\ArcPy\\arcpy\\conversion.py\u001b[0m in \u001b[0;36mFeatureClassToFeatureClass\u001b[1;34m(in_features, out_path, out_name, where_clause, field_mapping, config_keyword)\u001b[0m\n\u001b[0;32m   1766\u001b[0m     \u001b[1;32mfrom\u001b[0m \u001b[0marcpy\u001b[0m\u001b[1;33m.\u001b[0m\u001b[0marcobjects\u001b[0m\u001b[1;33m.\u001b[0m\u001b[0marcobjectconversion\u001b[0m \u001b[1;32mimport\u001b[0m \u001b[0mconvertArcObjectToPythonObject\u001b[0m\u001b[1;33m\u001b[0m\u001b[0m\n\u001b[0;32m   1767\u001b[0m     \u001b[1;32mtry\u001b[0m\u001b[1;33m:\u001b[0m\u001b[1;33m\u001b[0m\u001b[0m\n\u001b[1;32m-> 1768\u001b[1;33m         \u001b[0mretval\u001b[0m \u001b[1;33m=\u001b[0m \u001b[0mconvertArcObjectToPythonObject\u001b[0m\u001b[1;33m(\u001b[0m\u001b[0mgp\u001b[0m\u001b[1;33m.\u001b[0m\u001b[0mFeatureClassToFeatureClass_conversion\u001b[0m\u001b[1;33m(\u001b[0m\u001b[1;33m*\u001b[0m\u001b[0mgp_fixargs\u001b[0m\u001b[1;33m(\u001b[0m\u001b[1;33m(\u001b[0m\u001b[0min_features\u001b[0m\u001b[1;33m,\u001b[0m \u001b[0mout_path\u001b[0m\u001b[1;33m,\u001b[0m \u001b[0mout_name\u001b[0m\u001b[1;33m,\u001b[0m \u001b[0mwhere_clause\u001b[0m\u001b[1;33m,\u001b[0m \u001b[0mfield_mapping\u001b[0m\u001b[1;33m,\u001b[0m \u001b[0mconfig_keyword\u001b[0m\u001b[1;33m)\u001b[0m\u001b[1;33m,\u001b[0m \u001b[1;32mTrue\u001b[0m\u001b[1;33m)\u001b[0m\u001b[1;33m)\u001b[0m\u001b[1;33m)\u001b[0m\u001b[1;33m\u001b[0m\u001b[0m\n\u001b[0m\u001b[0;32m   1769\u001b[0m         \u001b[1;32mreturn\u001b[0m \u001b[0mretval\u001b[0m\u001b[1;33m\u001b[0m\u001b[0m\n\u001b[0;32m   1770\u001b[0m     \u001b[1;32mexcept\u001b[0m \u001b[0mException\u001b[0m \u001b[1;32mas\u001b[0m \u001b[0me\u001b[0m\u001b[1;33m:\u001b[0m\u001b[1;33m\u001b[0m\u001b[0m\n",
      "\u001b[1;32mC:\\Program Files\\ArcGIS\\Pro\\Resources\\ArcPy\\arcpy\\geoprocessing\\_base.py\u001b[0m in \u001b[0;36m<lambda>\u001b[1;34m(*args)\u001b[0m\n\u001b[0;32m    496\u001b[0m         \u001b[0mval\u001b[0m \u001b[1;33m=\u001b[0m \u001b[0mgetattr\u001b[0m\u001b[1;33m(\u001b[0m\u001b[0mself\u001b[0m\u001b[1;33m.\u001b[0m\u001b[0m_gp\u001b[0m\u001b[1;33m,\u001b[0m \u001b[0mattr\u001b[0m\u001b[1;33m)\u001b[0m\u001b[1;33m\u001b[0m\u001b[0m\n\u001b[0;32m    497\u001b[0m         \u001b[1;32mif\u001b[0m \u001b[0mcallable\u001b[0m\u001b[1;33m(\u001b[0m\u001b[0mval\u001b[0m\u001b[1;33m)\u001b[0m\u001b[1;33m:\u001b[0m\u001b[1;33m\u001b[0m\u001b[0m\n\u001b[1;32m--> 498\u001b[1;33m             \u001b[1;32mreturn\u001b[0m \u001b[1;32mlambda\u001b[0m \u001b[1;33m*\u001b[0m\u001b[0margs\u001b[0m\u001b[1;33m:\u001b[0m \u001b[0mval\u001b[0m\u001b[1;33m(\u001b[0m\u001b[1;33m*\u001b[0m\u001b[0mgp_fixargs\u001b[0m\u001b[1;33m(\u001b[0m\u001b[0margs\u001b[0m\u001b[1;33m,\u001b[0m \u001b[1;32mTrue\u001b[0m\u001b[1;33m)\u001b[0m\u001b[1;33m)\u001b[0m\u001b[1;33m\u001b[0m\u001b[0m\n\u001b[0m\u001b[0;32m    499\u001b[0m         \u001b[1;32melse\u001b[0m\u001b[1;33m:\u001b[0m\u001b[1;33m\u001b[0m\u001b[0m\n\u001b[0;32m    500\u001b[0m             \u001b[1;32mreturn\u001b[0m \u001b[0mconvertArcObjectToPythonObject\u001b[0m\u001b[1;33m(\u001b[0m\u001b[0mval\u001b[0m\u001b[1;33m)\u001b[0m\u001b[1;33m\u001b[0m\u001b[0m\n",
      "\u001b[1;31mExecuteError\u001b[0m: ERROR 000258: Output C:/Users/allow001/work/scratchdata/hydro_shp\\ak_water.shp already exists\nFailed to execute (FeatureClassToFeatureClass).\n"
     ]
    }
   ],
   "source": [
    "from glob import glob\n",
    "import os\n",
    "import arcpy\n",
    "\n",
    "src = \"G:\\\\data_projects\\\\sdf_2019\\\\link_new\"\n",
    "dest =\"C:/Users/allow001/work/scratchdata/hydro_shp\"\n",
    "\n",
    "\n",
    "for folder in glob(os.path.join(src, \"??\",\"state\",\"??\")):\n",
    "    print(folder[-2:])\n",
    "    arcpy.env.workspace = folder\n",
    "    inFeatures = \"region.water\"\n",
    "    outFeatureClass = (folder[-2:]+\"_water.shp\")\n",
    "    for file in folder:\n",
    "        arcpy.env.outputCoordinateSystem = arcpy.SpatialReference('USA Contiguous Albers Equal Area Conic')\n",
    "        arcpy.FeatureClassToFeatureClass_conversion(inFeatures,dest,outFeatureClass)\n",
    "        print (\"completed: \",outFeatureClass)\n",
    "        \n",
    "        \n",
    " \n",
    "# Execute FeatureClassToFeatureClass\n",
    "#rcpy.FeatureClassToFeatureClass_conversion(inFeatures, outLocation, \n",
    "                                            #outFeatureClass, expression)"
   ]
  }
 ],
 "metadata": {
  "kernelspec": {
   "display_name": "Python 3",
   "language": "python",
   "name": "python3"
  },
  "language_info": {
   "codemirror_mode": {
    "name": "ipython",
    "version": 3
   },
   "file_extension": ".py",
   "mimetype": "text/x-python",
   "name": "python",
   "nbconvert_exporter": "python",
   "pygments_lexer": "ipython3",
   "version": "3.6.6"
  }
 },
 "nbformat": 4,
 "nbformat_minor": 2
}
