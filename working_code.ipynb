{
 "cells": [
  {
   "cell_type": "code",
   "execution_count": 1,
   "metadata": {},
   "outputs": [
    {
     "name": "stdout",
     "output_type": "stream",
     "text": [
      "imported\n"
     ]
    }
   ],
   "source": [
    "#IMPORT STATEMENTS\n",
    "\n",
    "import arcpy\n",
    "print('imported')\n"
   ]
  },
  {
   "cell_type": "code",
   "execution_count": 2,
   "metadata": {},
   "outputs": [],
   "source": [
    "#ENVIRONMENTS\n",
    "arcpy.env.workspace = \"C:/Users/allow001/work/\"\n",
    "\n"
   ]
  },
  {
   "cell_type": "code",
   "execution_count": 4,
   "metadata": {},
   "outputs": [
    {
     "name": "stdout",
     "output_type": "stream",
     "text": [
      "converted\n"
     ]
    }
   ],
   "source": [
    "### NOT NECESSARY FOR FEATURE TO LINE TOOL - START FROM SHP - DO NOT RUN\n",
    "\n",
    "#CONVERT SHAPEFILES TO FEATURE CLASSES TO USE ARCPY POLYGON TO LINE TOOL\n",
    "\n",
    "#arcpy.env.workspace = \"C:/Users/allow001/work/scratchdata/us_state_2000_shp\"\n",
    "#arcpy.FeatureClassToFeatureClass_conversion(\"US_state_2000.shp\", \n",
    "                                            \"C:/Users/allow001/work/Working.gdb\", \n",
    "                                            \"US_state_2000\")\n",
    "#print('converted')"
   ]
  },
  {
   "cell_type": "code",
   "execution_count": 10,
   "metadata": {},
   "outputs": [
    {
     "name": "stdout",
     "output_type": "stream",
     "text": [
      "lines!\n"
     ]
    }
   ],
   "source": [
    "#RUN ARCPY FEATURE TO LINE TOOL, OUTPUT LINES AS FEATURE CLASSES\n",
    "\n",
    "arcpy.FeatureToLine_management(\"Working.gdb/US_boundary\", \n",
    "                               \"Working.gdb/USboundary_line\",\n",
    "                               \"0.001 Meters\", \"ATTRIBUTES\")\n",
    "print('lines!')"
   ]
  },
  {
   "cell_type": "code",
   "execution_count": 18,
   "metadata": {},
   "outputs": [
    {
     "name": "stdout",
     "output_type": "stream",
     "text": [
      "dissolved!\n"
     ]
    }
   ],
   "source": [
    "#DISSOLVE LINES BASED ON FID_US_state_2000\n",
    "\n",
    "arcpy.Dissolve_management(\"Working.gdb/US_state_2000_lines\", \"Working.gdb/US_state_2000_lines_dissolved\", \"FID_US_state_2000\",\n",
    "                          \"FID_US_state_2000 FIRST;NHGISST FIRST;ICPSRST FIRST;STATENAM FIRST\",\"MULTI_PART\", \"DISSOLVE_LINES\")\n",
    "print('dissolved!')\n",
    "\n"
   ]
  },
  {
   "cell_type": "code",
   "execution_count": 21,
   "metadata": {},
   "outputs": [
    {
     "ename": "ExecuteError",
     "evalue": "Failed to execute. Parameters are not valid.\nERROR 000725: Output Feature Class: Dataset Working.gdb\\ak_water_lines already exists.\nFailed to execute (FeatureToLine).\n",
     "output_type": "error",
     "traceback": [
      "\u001b[1;31m---------------------------------------------------------------------------\u001b[0m",
      "\u001b[1;31mExecuteError\u001b[0m                              Traceback (most recent call last)",
      "\u001b[1;32m<ipython-input-21-568c4ea5a8fe>\u001b[0m in \u001b[0;36m<module>\u001b[1;34m()\u001b[0m\n\u001b[0;32m      1\u001b[0m arcpy.FeatureToLine_management(\"Working.gdb/ak_water_poly\", \n\u001b[0;32m      2\u001b[0m                                \u001b[1;34m\"Working.gdb/ak_water_lines\"\u001b[0m\u001b[1;33m,\u001b[0m\u001b[1;33m\u001b[0m\u001b[0m\n\u001b[1;32m----> 3\u001b[1;33m                                \"0.001 Meters\", \"ATTRIBUTES\")\n\u001b[0m\u001b[0;32m      4\u001b[0m \u001b[0mprint\u001b[0m\u001b[1;33m(\u001b[0m\u001b[1;34m'lines!'\u001b[0m\u001b[1;33m)\u001b[0m\u001b[1;33m\u001b[0m\u001b[0m\n",
      "\u001b[1;32mC:\\Program Files\\ArcGIS\\Pro\\Resources\\ArcPy\\arcpy\\management.py\u001b[0m in \u001b[0;36mFeatureToLine\u001b[1;34m(in_features, out_feature_class, cluster_tolerance, attributes)\u001b[0m\n\u001b[0;32m   2744\u001b[0m         \u001b[1;32mreturn\u001b[0m \u001b[0mretval\u001b[0m\u001b[1;33m\u001b[0m\u001b[0m\n\u001b[0;32m   2745\u001b[0m     \u001b[1;32mexcept\u001b[0m \u001b[0mException\u001b[0m \u001b[1;32mas\u001b[0m \u001b[0me\u001b[0m\u001b[1;33m:\u001b[0m\u001b[1;33m\u001b[0m\u001b[0m\n\u001b[1;32m-> 2746\u001b[1;33m         \u001b[1;32mraise\u001b[0m \u001b[0me\u001b[0m\u001b[1;33m\u001b[0m\u001b[0m\n\u001b[0m\u001b[0;32m   2747\u001b[0m \u001b[1;33m\u001b[0m\u001b[0m\n\u001b[0;32m   2748\u001b[0m \u001b[1;33m@\u001b[0m\u001b[0mgptooldoc\u001b[0m\u001b[1;33m(\u001b[0m\u001b[1;34m'FeatureToPoint_management'\u001b[0m\u001b[1;33m,\u001b[0m \u001b[1;32mNone\u001b[0m\u001b[1;33m)\u001b[0m\u001b[1;33m\u001b[0m\u001b[0m\n",
      "\u001b[1;32mC:\\Program Files\\ArcGIS\\Pro\\Resources\\ArcPy\\arcpy\\management.py\u001b[0m in \u001b[0;36mFeatureToLine\u001b[1;34m(in_features, out_feature_class, cluster_tolerance, attributes)\u001b[0m\n\u001b[0;32m   2741\u001b[0m     \u001b[1;32mfrom\u001b[0m \u001b[0marcpy\u001b[0m\u001b[1;33m.\u001b[0m\u001b[0marcobjects\u001b[0m\u001b[1;33m.\u001b[0m\u001b[0marcobjectconversion\u001b[0m \u001b[1;32mimport\u001b[0m \u001b[0mconvertArcObjectToPythonObject\u001b[0m\u001b[1;33m\u001b[0m\u001b[0m\n\u001b[0;32m   2742\u001b[0m     \u001b[1;32mtry\u001b[0m\u001b[1;33m:\u001b[0m\u001b[1;33m\u001b[0m\u001b[0m\n\u001b[1;32m-> 2743\u001b[1;33m         \u001b[0mretval\u001b[0m \u001b[1;33m=\u001b[0m \u001b[0mconvertArcObjectToPythonObject\u001b[0m\u001b[1;33m(\u001b[0m\u001b[0mgp\u001b[0m\u001b[1;33m.\u001b[0m\u001b[0mFeatureToLine_management\u001b[0m\u001b[1;33m(\u001b[0m\u001b[1;33m*\u001b[0m\u001b[0mgp_fixargs\u001b[0m\u001b[1;33m(\u001b[0m\u001b[1;33m(\u001b[0m\u001b[0min_features\u001b[0m\u001b[1;33m,\u001b[0m \u001b[0mout_feature_class\u001b[0m\u001b[1;33m,\u001b[0m \u001b[0mcluster_tolerance\u001b[0m\u001b[1;33m,\u001b[0m \u001b[0mattributes\u001b[0m\u001b[1;33m)\u001b[0m\u001b[1;33m,\u001b[0m \u001b[1;32mTrue\u001b[0m\u001b[1;33m)\u001b[0m\u001b[1;33m)\u001b[0m\u001b[1;33m)\u001b[0m\u001b[1;33m\u001b[0m\u001b[0m\n\u001b[0m\u001b[0;32m   2744\u001b[0m         \u001b[1;32mreturn\u001b[0m \u001b[0mretval\u001b[0m\u001b[1;33m\u001b[0m\u001b[0m\n\u001b[0;32m   2745\u001b[0m     \u001b[1;32mexcept\u001b[0m \u001b[0mException\u001b[0m \u001b[1;32mas\u001b[0m \u001b[0me\u001b[0m\u001b[1;33m:\u001b[0m\u001b[1;33m\u001b[0m\u001b[0m\n",
      "\u001b[1;32mC:\\Program Files\\ArcGIS\\Pro\\Resources\\ArcPy\\arcpy\\geoprocessing\\_base.py\u001b[0m in \u001b[0;36m<lambda>\u001b[1;34m(*args)\u001b[0m\n\u001b[0;32m    496\u001b[0m         \u001b[0mval\u001b[0m \u001b[1;33m=\u001b[0m \u001b[0mgetattr\u001b[0m\u001b[1;33m(\u001b[0m\u001b[0mself\u001b[0m\u001b[1;33m.\u001b[0m\u001b[0m_gp\u001b[0m\u001b[1;33m,\u001b[0m \u001b[0mattr\u001b[0m\u001b[1;33m)\u001b[0m\u001b[1;33m\u001b[0m\u001b[0m\n\u001b[0;32m    497\u001b[0m         \u001b[1;32mif\u001b[0m \u001b[0mcallable\u001b[0m\u001b[1;33m(\u001b[0m\u001b[0mval\u001b[0m\u001b[1;33m)\u001b[0m\u001b[1;33m:\u001b[0m\u001b[1;33m\u001b[0m\u001b[0m\n\u001b[1;32m--> 498\u001b[1;33m             \u001b[1;32mreturn\u001b[0m \u001b[1;32mlambda\u001b[0m \u001b[1;33m*\u001b[0m\u001b[0margs\u001b[0m\u001b[1;33m:\u001b[0m \u001b[0mval\u001b[0m\u001b[1;33m(\u001b[0m\u001b[1;33m*\u001b[0m\u001b[0mgp_fixargs\u001b[0m\u001b[1;33m(\u001b[0m\u001b[0margs\u001b[0m\u001b[1;33m,\u001b[0m \u001b[1;32mTrue\u001b[0m\u001b[1;33m)\u001b[0m\u001b[1;33m)\u001b[0m\u001b[1;33m\u001b[0m\u001b[0m\n\u001b[0m\u001b[0;32m    499\u001b[0m         \u001b[1;32melse\u001b[0m\u001b[1;33m:\u001b[0m\u001b[1;33m\u001b[0m\u001b[0m\n\u001b[0;32m    500\u001b[0m             \u001b[1;32mreturn\u001b[0m \u001b[0mconvertArcObjectToPythonObject\u001b[0m\u001b[1;33m(\u001b[0m\u001b[0mval\u001b[0m\u001b[1;33m)\u001b[0m\u001b[1;33m\u001b[0m\u001b[0m\n",
      "\u001b[1;31mExecuteError\u001b[0m: Failed to execute. Parameters are not valid.\nERROR 000725: Output Feature Class: Dataset Working.gdb\\ak_water_lines already exists.\nFailed to execute (FeatureToLine).\n"
     ]
    }
   ],
   "source": [
    "#WATER - WORKING -\n",
    "\n",
    "arcpy.FeatureToLine_management(\"Working.gdb/ak_water_poly\", \n",
    "                               \"Working.gdb/ak_water_lines\",\n",
    "                               \"0.001 Meters\", \"ATTRIBUTES\")\n",
    "print('lines!')\n"
   ]
  },
  {
   "cell_type": "markdown",
   "metadata": {},
   "source": [
    "## UNZIPPING FILES"
   ]
  },
  {
   "cell_type": "code",
   "execution_count": 2,
   "metadata": {},
   "outputs": [
    {
     "name": "stdout",
     "output_type": "stream",
     "text": [
      "import successful\n",
      "C:\\Users\\allow001\\work\\primarydata\\us_county_2000.zip\n",
      "C:\\Users\\allow001\\work\\primarydata\n",
      "us_county_2000.zip\n",
      "C:\\Users\\allow001\\work\\primarydata\\state\\us_state_1790.zip\n",
      "C:\\Users\\allow001\\work\\primarydata\\state\n",
      "us_state_1790.zip\n",
      "C:\\Users\\allow001\\work\\primarydata\\state\\us_state_1800.zip\n",
      "C:\\Users\\allow001\\work\\primarydata\\state\n",
      "us_state_1800.zip\n",
      "C:\\Users\\allow001\\work\\primarydata\\state\\us_state_1810.zip\n",
      "C:\\Users\\allow001\\work\\primarydata\\state\n",
      "us_state_1810.zip\n",
      "C:\\Users\\allow001\\work\\primarydata\\state\\us_state_1820.zip\n",
      "C:\\Users\\allow001\\work\\primarydata\\state\n",
      "us_state_1820.zip\n",
      "C:\\Users\\allow001\\work\\primarydata\\state\\us_state_1830.zip\n",
      "C:\\Users\\allow001\\work\\primarydata\\state\n",
      "us_state_1830.zip\n",
      "C:\\Users\\allow001\\work\\primarydata\\state\\us_state_1840.zip\n",
      "C:\\Users\\allow001\\work\\primarydata\\state\n",
      "us_state_1840.zip\n",
      "C:\\Users\\allow001\\work\\primarydata\\state\\us_state_1850.zip\n",
      "C:\\Users\\allow001\\work\\primarydata\\state\n",
      "us_state_1850.zip\n",
      "C:\\Users\\allow001\\work\\primarydata\\state\\us_state_1860.zip\n",
      "C:\\Users\\allow001\\work\\primarydata\\state\n",
      "us_state_1860.zip\n",
      "C:\\Users\\allow001\\work\\primarydata\\state\\us_state_1870.zip\n",
      "C:\\Users\\allow001\\work\\primarydata\\state\n",
      "us_state_1870.zip\n",
      "C:\\Users\\allow001\\work\\primarydata\\state\\us_state_1880.zip\n",
      "C:\\Users\\allow001\\work\\primarydata\\state\n",
      "us_state_1880.zip\n",
      "C:\\Users\\allow001\\work\\primarydata\\state\\us_state_1890.zip\n",
      "C:\\Users\\allow001\\work\\primarydata\\state\n",
      "us_state_1890.zip\n",
      "C:\\Users\\allow001\\work\\primarydata\\state\\us_state_1900.zip\n",
      "C:\\Users\\allow001\\work\\primarydata\\state\n",
      "us_state_1900.zip\n",
      "C:\\Users\\allow001\\work\\primarydata\\state\\us_state_1910.zip\n",
      "C:\\Users\\allow001\\work\\primarydata\\state\n",
      "us_state_1910.zip\n",
      "C:\\Users\\allow001\\work\\primarydata\\state\\us_state_1920.zip\n",
      "C:\\Users\\allow001\\work\\primarydata\\state\n",
      "us_state_1920.zip\n",
      "C:\\Users\\allow001\\work\\primarydata\\state\\us_state_1930.zip\n",
      "C:\\Users\\allow001\\work\\primarydata\\state\n",
      "us_state_1930.zip\n",
      "C:\\Users\\allow001\\work\\primarydata\\state\\us_state_1940.zip\n",
      "C:\\Users\\allow001\\work\\primarydata\\state\n",
      "us_state_1940.zip\n",
      "C:\\Users\\allow001\\work\\primarydata\\state\\us_state_1950.zip\n",
      "C:\\Users\\allow001\\work\\primarydata\\state\n",
      "us_state_1950.zip\n",
      "C:\\Users\\allow001\\work\\primarydata\\state\\us_state_1960.zip\n",
      "C:\\Users\\allow001\\work\\primarydata\\state\n",
      "us_state_1960.zip\n",
      "C:\\Users\\allow001\\work\\primarydata\\state\\us_state_1970.zip\n",
      "C:\\Users\\allow001\\work\\primarydata\\state\n",
      "us_state_1970.zip\n",
      "C:\\Users\\allow001\\work\\primarydata\\state\\us_state_1980.zip\n",
      "C:\\Users\\allow001\\work\\primarydata\\state\n",
      "us_state_1980.zip\n",
      "C:\\Users\\allow001\\work\\primarydata\\state\\us_state_1990.zip\n",
      "C:\\Users\\allow001\\work\\primarydata\\state\n",
      "us_state_1990.zip\n",
      "C:\\Users\\allow001\\work\\primarydata\\state\\us_state_2000.zip\n",
      "C:\\Users\\allow001\\work\\primarydata\\state\n",
      "us_state_2000.zip\n",
      "C:\\Users\\allow001\\work\\primarydata\\state\\us_state_all.zip\n",
      "C:\\Users\\allow001\\work\\primarydata\\state\n",
      "us_state_all.zip\n"
     ]
    }
   ],
   "source": [
    "import zipfile,fnmatch,os  \n",
    "\n",
    "print('import successful')\n",
    "\n",
    "# EXTRACT ALL ZIP FILES IN DIRECTORY TREE TO ONE SPECIFIC FOLDER   \n",
    "\n",
    "rootPath = r\"C:\\Users\\allow001\\work\\primarydata\"  \n",
    "pattern = '*.zip'  \n",
    "for root, dirs, files in os.walk(rootPath):  \n",
    "    for filename in fnmatch.filter(files, pattern):  \n",
    "        print(os.path.join(root, filename))  \n",
    "        outpath = r\"C:\\Users\\allow001\\work\\scratchdata\"    \n",
    "        print (root)  \n",
    "        print (filename)  \n",
    "        zipfile.ZipFile(os.path.join(root, filename)).extractall(r\"C:\\Users\\allow001\\work\\scratchdata\")  "
   ]
  },
  {
   "cell_type": "markdown",
   "metadata": {},
   "source": [
    "## DISSOLVE ROUND 2: US STATES EDITION"
   ]
  },
  {
   "cell_type": "code",
   "execution_count": 8,
   "metadata": {},
   "outputs": [
    {
     "name": "stdout",
     "output_type": "stream",
     "text": [
      "dissolved! again!\n"
     ]
    }
   ],
   "source": [
    "#DISSOLVE LINES \n",
    "\n",
    "arcpy.Dissolve_management(\"Working.gdb/US_state_2000_lines\", \"Working.gdb/US_state_2000_lines_exterior\",\"US\",\n",
    "                          \"\",\"SINGLE_PART\", \"DISSOLVE_LINES\")\n",
    "print('dissolved! again!')\n"
   ]
  },
  {
   "cell_type": "markdown",
   "metadata": {},
   "source": [
    "## Coverage >>> SHP"
   ]
  },
  {
   "cell_type": "code",
   "execution_count": 23,
   "metadata": {},
   "outputs": [
    {
     "data": {
      "text/plain": [
       "<Result 'C:\\\\Users\\\\allow001\\\\work\\\\scratchdata\\\\ak'>"
      ]
     },
     "execution_count": 23,
     "metadata": {},
     "output_type": "execute_result"
    }
   ],
   "source": [
    "arcpy.FeatureClassToShapefile_conversion(Input_Features=\"G:/data_projects/sdf_2019/link_new/ak/state/akwater/region.water\", Output_Folder=\"C:/Users/allow001/work/scratchdata/ak\")"
   ]
  },
  {
   "cell_type": "code",
   "execution_count": 28,
   "metadata": {},
   "outputs": [
    {
     "data": {
      "text/plain": [
       "<Result 'C:\\\\Users\\\\allow001\\\\work\\\\scratchdata\\\\al'>"
      ]
     },
     "execution_count": 28,
     "metadata": {},
     "output_type": "execute_result"
    }
   ],
   "source": [
    "Input_Features = [\"G:/data_projects/sdf_2019/link_new/al/state/alwater/polygon\",\"G:/data_projects/sdf_2019/link_new/al/alh/arc\",\"G:/data_projects/sdf_2019/link_new/al/als/arc\"]\n",
    "\n",
    "Output_Folder = \"C:/Users/allow001/work/scratchdata/al\"\n",
    "\n",
    "arcpy.FeatureClassToShapefile_conversion(Input_Features, Output_Folder)"
   ]
  },
  {
   "cell_type": "code",
   "execution_count": null,
   "metadata": {},
   "outputs": [],
   "source": []
  }
 ],
 "metadata": {
  "kernelspec": {
   "display_name": "Python 3",
   "language": "python",
   "name": "python3"
  },
  "language_info": {
   "codemirror_mode": {
    "name": "ipython",
    "version": 3
   },
   "file_extension": ".py",
   "mimetype": "text/x-python",
   "name": "python",
   "nbconvert_exporter": "python",
   "pygments_lexer": "ipython3",
   "version": "3.6.6"
  }
 },
 "nbformat": 4,
 "nbformat_minor": 2
}
