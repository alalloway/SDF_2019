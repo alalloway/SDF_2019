{
 "cells": [
  {
   "cell_type": "code",
   "execution_count": 6,
   "metadata": {},
   "outputs": [
    {
     "ename": "ModuleNotFoundError",
     "evalue": "No module named 'urllib2'",
     "output_type": "error",
     "traceback": [
      "\u001b[1;31m---------------------------------------------------------------------------\u001b[0m",
      "\u001b[1;31mModuleNotFoundError\u001b[0m                       Traceback (most recent call last)",
      "\u001b[1;32m<ipython-input-6-5325e2f3a335>\u001b[0m in \u001b[0;36m<module>\u001b[1;34m()\u001b[0m\n\u001b[0;32m      1\u001b[0m \u001b[1;32mimport\u001b[0m \u001b[0mrequests\u001b[0m\u001b[1;33m\u001b[0m\u001b[0m\n\u001b[1;32m----> 2\u001b[1;33m \u001b[1;32mimport\u001b[0m \u001b[0murllib2\u001b[0m\u001b[1;33m\u001b[0m\u001b[0m\n\u001b[0m\u001b[0;32m      3\u001b[0m \u001b[1;32mimport\u001b[0m \u001b[0mpprint\u001b[0m\u001b[1;33m\u001b[0m\u001b[0m\n\u001b[0;32m      4\u001b[0m \u001b[1;32mimport\u001b[0m \u001b[0mre\u001b[0m\u001b[1;33m\u001b[0m\u001b[0m\n\u001b[0;32m      5\u001b[0m \u001b[1;31m#params = urllib.urlencode({'spam': 1, 'eggs': 2, 'bacon': 0})\u001b[0m\u001b[1;33m\u001b[0m\u001b[1;33m\u001b[0m\u001b[0m\n",
      "\u001b[1;31mModuleNotFoundError\u001b[0m: No module named 'urllib2'"
     ]
    }
   ],
   "source": [
    "import requests\n",
    "import urllib\n",
    "import pprint\n",
    "import re\n",
    "#params = urllib.urlencode({'spam': 1, 'eggs': 2, 'bacon': 0})\n",
    "f = urllib.request.urlopen(\"https://www2.census.gov/geo/tiger/TIGER2018/\")\n",
    "print(f.read())"
   ]
  },
  {
   "cell_type": "code",
   "execution_count": 29,
   "metadata": {},
   "outputs": [
    {
     "name": "stdout",
     "output_type": "stream",
     "text": [
      "www2.census.gov\n"
     ]
    }
   ],
   "source": [
    "#this WORKS!!\n",
    "import requests\n",
    "import urllib\n",
    "#print('Beginning file download with requests')\n",
    "#now we just need to walk through all the files to get all of them\n",
    "urlPath= 'https://www2.census.gov/geo/tiger/TIGER2018/'\n",
    "\n",
    "folder = ['ADDR/','ADDRFEAT/','ADDRFN/','AIANNH/','AITSN/','ANRC/','AREALM/',\n",
    "             'AREAWATER/','BG/','CBSA/','CD/','CNECTA/','COASTLINE/',\n",
    "             'CONCITY/','COUSUB/','CSA/','EDGES/','ELSD/','ESTATE/',\n",
    "             'FACES/','FACESAH/','FACESAL/','FACESMIL/','FEATNAMES/',\n",
    "             'LINEARWATER/','METDIV/','MIL/','NECTA/','NECTADIV/','PLACE/',\n",
    "             'POINTLM/','PRIMARYROADS/','PRISECROADS/','PUMA/','RAILS/',\n",
    "             'ROADS/','SCSD/','SLDL/','SLDU/','STATE/','SUBMCD/','TABBLOCK/',\n",
    "             'TBG/','TRACT/','TTRACT/','UAC/','UNSD/','ZCTA5/']\n",
    "urlpt2 = 'COUSUB/tl_2018_01_cousub.zip'\n",
    "url = urlPath + urlpt2\n",
    "print(urllib.request.Request('https://www2.census.gov/geo/tiger/TIGER2018/').host)\n",
    "\n",
    "r = requests.get(url)\n",
    "\n",
    "#r prefix to indicate raw string\n",
    "with open(r'\\Users\\and04671\\Downloads\\cat5.zip', 'wb') as download:  \n",
    "    download.write(r.content)\n",
    "\n",
    "# Retrieve HTTP meta-data\n",
    "#print(r.status_code)  \n",
    "#print(r.headers['content-type'])  \n",
    "#print(r.encoding)  \n",
    "\n"
   ]
  },
  {
   "cell_type": "code",
   "execution_count": 4,
   "metadata": {},
   "outputs": [
    {
     "ename": "ModuleNotFoundError",
     "evalue": "No module named 'wget'",
     "output_type": "error",
     "traceback": [
      "\u001b[1;31m---------------------------------------------------------------------------\u001b[0m",
      "\u001b[1;31mModuleNotFoundError\u001b[0m                       Traceback (most recent call last)",
      "\u001b[1;32m<ipython-input-4-891daee83d06>\u001b[0m in \u001b[0;36m<module>\u001b[1;34m()\u001b[0m\n\u001b[1;32m----> 1\u001b[1;33m \u001b[1;32mimport\u001b[0m \u001b[0mwget\u001b[0m\u001b[1;33m\u001b[0m\u001b[0m\n\u001b[0m\u001b[0;32m      2\u001b[0m \u001b[1;33m\u001b[0m\u001b[0m\n\u001b[0;32m      3\u001b[0m \u001b[0mprint\u001b[0m\u001b[1;33m(\u001b[0m\u001b[1;34m'Beginning file download with wget module'\u001b[0m\u001b[1;33m)\u001b[0m\u001b[1;33m\u001b[0m\u001b[0m\n\u001b[0;32m      4\u001b[0m \u001b[1;33m\u001b[0m\u001b[0m\n\u001b[0;32m      5\u001b[0m \u001b[0murl\u001b[0m \u001b[1;33m=\u001b[0m \u001b[1;34m'http://i3.ytimg.com/vi/J---aiyznGQ/mqdefault.jpg'\u001b[0m\u001b[1;33m\u001b[0m\u001b[0m\n",
      "\u001b[1;31mModuleNotFoundError\u001b[0m: No module named 'wget'"
     ]
    }
   ],
   "source": [
    "import wget\n",
    "\n",
    "print('Beginning file download with wget module')\n",
    "\n",
    "url = 'http://i3.ytimg.com/vi/J---aiyznGQ/mqdefault.jpg'  \n",
    "wget.download(url, '/Users/scott/Downloads/cat4.jpg')"
   ]
  }
 ],
 "metadata": {
  "kernelspec": {
   "display_name": "Python 3",
   "language": "python",
   "name": "python3"
  },
  "language_info": {
   "codemirror_mode": {
    "name": "ipython",
    "version": 3
   },
   "file_extension": ".py",
   "mimetype": "text/x-python",
   "name": "python",
   "nbconvert_exporter": "python",
   "pygments_lexer": "ipython3",
   "version": "3.6.6"
  }
 },
 "nbformat": 4,
 "nbformat_minor": 2
}
